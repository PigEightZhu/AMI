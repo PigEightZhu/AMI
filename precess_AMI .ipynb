{
 "cells": [
  {
   "cell_type": "code",
   "execution_count": 1,
   "metadata": {},
   "outputs": [],
   "source": [
    "import numpy as np\n",
    "import pandas as pd\n",
    "import matplotlib.pyplot as plt"
   ]
  },
  {
   "cell_type": "code",
   "execution_count": 2,
   "metadata": {},
   "outputs": [],
   "source": [
    "'''\n",
    "input = raw data\n",
    "output = raw_train, raw_test\n",
    "function:The raw data was devided into raw_train and raw_test\n",
    "'''\n",
    "\n",
    "df = pd.read_excel('raw data.xlsx')\n",
    "# removing patients without follow-up result\n",
    "df = df[df['MACE'].notnull()]"
   ]
  },
  {
   "cell_type": "code",
   "execution_count": 3,
   "metadata": {},
   "outputs": [],
   "source": [
    "df = df.reindex(np.random.permutation(df.index))#disrupt the order"
   ]
  },
  {
   "cell_type": "code",
   "execution_count": 4,
   "metadata": {},
   "outputs": [
    {
     "data": {
      "text/plain": [
       "(410, 26)"
      ]
     },
     "execution_count": 4,
     "metadata": {},
     "output_type": "execute_result"
    }
   ],
   "source": [
    "df.shape"
   ]
  },
  {
   "cell_type": "code",
   "execution_count": 5,
   "metadata": {},
   "outputs": [
    {
     "data": {
      "text/html": [
       "<div>\n",
       "<style scoped>\n",
       "    .dataframe tbody tr th:only-of-type {\n",
       "        vertical-align: middle;\n",
       "    }\n",
       "\n",
       "    .dataframe tbody tr th {\n",
       "        vertical-align: top;\n",
       "    }\n",
       "\n",
       "    .dataframe thead th {\n",
       "        text-align: right;\n",
       "    }\n",
       "</style>\n",
       "<table border=\"1\" class=\"dataframe\">\n",
       "  <thead>\n",
       "    <tr style=\"text-align: right;\">\n",
       "      <th></th>\n",
       "      <th>admission number</th>\n",
       "      <th>Age</th>\n",
       "      <th>Sex</th>\n",
       "      <th>InhisTime</th>\n",
       "      <th>Revasc</th>\n",
       "      <th>Culp</th>\n",
       "      <th>MainVASc</th>\n",
       "      <th>Numsten</th>\n",
       "      <th>ECG</th>\n",
       "      <th>Killip</th>\n",
       "      <th>...</th>\n",
       "      <th>UA</th>\n",
       "      <th>Glu</th>\n",
       "      <th>WBC</th>\n",
       "      <th>N</th>\n",
       "      <th>HyperP</th>\n",
       "      <th>Cigaret</th>\n",
       "      <th>OtherHis</th>\n",
       "      <th>diabetes</th>\n",
       "      <th>Drugcom</th>\n",
       "      <th>MACE</th>\n",
       "    </tr>\n",
       "  </thead>\n",
       "  <tbody>\n",
       "    <tr>\n",
       "      <th>342</th>\n",
       "      <td>1038735</td>\n",
       "      <td>49</td>\n",
       "      <td>男</td>\n",
       "      <td>2019-08-26</td>\n",
       "      <td>2d6h20min</td>\n",
       "      <td>4.0</td>\n",
       "      <td>1.0</td>\n",
       "      <td>1.0</td>\n",
       "      <td>1</td>\n",
       "      <td>I</td>\n",
       "      <td>...</td>\n",
       "      <td>455.0</td>\n",
       "      <td>4.13</td>\n",
       "      <td>9.28</td>\n",
       "      <td>7.06</td>\n",
       "      <td>0</td>\n",
       "      <td>1</td>\n",
       "      <td>0.0</td>\n",
       "      <td>0</td>\n",
       "      <td>1.0</td>\n",
       "      <td>0.0</td>\n",
       "    </tr>\n",
       "    <tr>\n",
       "      <th>31</th>\n",
       "      <td>1000681</td>\n",
       "      <td>63</td>\n",
       "      <td>男</td>\n",
       "      <td>2019-01-25</td>\n",
       "      <td>4h11min</td>\n",
       "      <td>6.0</td>\n",
       "      <td>4.0</td>\n",
       "      <td>2.0</td>\n",
       "      <td>1</td>\n",
       "      <td>Ⅳ</td>\n",
       "      <td>...</td>\n",
       "      <td>307.0</td>\n",
       "      <td>9.77</td>\n",
       "      <td>10.91</td>\n",
       "      <td>8.12</td>\n",
       "      <td>1</td>\n",
       "      <td>1</td>\n",
       "      <td>0.0</td>\n",
       "      <td>0</td>\n",
       "      <td>1.0</td>\n",
       "      <td>0.0</td>\n",
       "    </tr>\n",
       "    <tr>\n",
       "      <th>2</th>\n",
       "      <td>1035609</td>\n",
       "      <td>68</td>\n",
       "      <td>女</td>\n",
       "      <td>2019-03-31</td>\n",
       "      <td>4h30min</td>\n",
       "      <td>2.0</td>\n",
       "      <td>1.0</td>\n",
       "      <td>1.0</td>\n",
       "      <td>1</td>\n",
       "      <td>Ⅲ</td>\n",
       "      <td>...</td>\n",
       "      <td>406.0</td>\n",
       "      <td>5.01</td>\n",
       "      <td>4.60</td>\n",
       "      <td>2.75</td>\n",
       "      <td>1</td>\n",
       "      <td>0</td>\n",
       "      <td>1.0</td>\n",
       "      <td>0</td>\n",
       "      <td>0.0</td>\n",
       "      <td>1.0</td>\n",
       "    </tr>\n",
       "    <tr>\n",
       "      <th>77</th>\n",
       "      <td>1027073</td>\n",
       "      <td>80</td>\n",
       "      <td>男</td>\n",
       "      <td>2019-06-23</td>\n",
       "      <td>6h38min</td>\n",
       "      <td>5.0</td>\n",
       "      <td>0.0</td>\n",
       "      <td>1.0</td>\n",
       "      <td>0</td>\n",
       "      <td>Ⅰ</td>\n",
       "      <td>...</td>\n",
       "      <td>445.0</td>\n",
       "      <td>5.77</td>\n",
       "      <td>6.33</td>\n",
       "      <td>4.85</td>\n",
       "      <td>0</td>\n",
       "      <td>0</td>\n",
       "      <td>1.0</td>\n",
       "      <td>0</td>\n",
       "      <td>1.0</td>\n",
       "      <td>0.0</td>\n",
       "    </tr>\n",
       "    <tr>\n",
       "      <th>371</th>\n",
       "      <td>1050791</td>\n",
       "      <td>35</td>\n",
       "      <td>男</td>\n",
       "      <td>2019-10-21</td>\n",
       "      <td>2h12min</td>\n",
       "      <td>2.0</td>\n",
       "      <td>2.0</td>\n",
       "      <td>3.0</td>\n",
       "      <td>1</td>\n",
       "      <td>I</td>\n",
       "      <td>...</td>\n",
       "      <td>402.0</td>\n",
       "      <td>5.89</td>\n",
       "      <td>13.36</td>\n",
       "      <td>12.04</td>\n",
       "      <td>1</td>\n",
       "      <td>0</td>\n",
       "      <td>1.0</td>\n",
       "      <td>0</td>\n",
       "      <td>1.0</td>\n",
       "      <td>0.0</td>\n",
       "    </tr>\n",
       "  </tbody>\n",
       "</table>\n",
       "<p>5 rows × 26 columns</p>\n",
       "</div>"
      ],
      "text/plain": [
       "     admission number  Age Sex  InhisTime     Revasc  Culp  MainVASc  Numsten  \\\n",
       "342           1038735   49   男 2019-08-26  2d6h20min   4.0       1.0      1.0   \n",
       "31            1000681   63   男 2019-01-25    4h11min   6.0       4.0      2.0   \n",
       "2             1035609   68   女 2019-03-31    4h30min   2.0       1.0      1.0   \n",
       "77            1027073   80   男 2019-06-23    6h38min   5.0       0.0      1.0   \n",
       "371           1050791   35   男 2019-10-21    2h12min   2.0       2.0      3.0   \n",
       "\n",
       "     ECG Killip  ...     UA   Glu    WBC      N  HyperP  Cigaret  OtherHis  \\\n",
       "342    1      I  ...  455.0  4.13   9.28   7.06       0        1       0.0   \n",
       "31     1      Ⅳ  ...  307.0  9.77  10.91   8.12       1        1       0.0   \n",
       "2      1      Ⅲ  ...  406.0  5.01   4.60   2.75       1        0       1.0   \n",
       "77     0      Ⅰ  ...  445.0  5.77   6.33   4.85       0        0       1.0   \n",
       "371    1      I  ...  402.0  5.89  13.36  12.04       1        0       1.0   \n",
       "\n",
       "     diabetes  Drugcom  MACE  \n",
       "342         0      1.0   0.0  \n",
       "31          0      1.0   0.0  \n",
       "2           0      0.0   1.0  \n",
       "77          0      1.0   0.0  \n",
       "371         0      1.0   0.0  \n",
       "\n",
       "[5 rows x 26 columns]"
      ]
     },
     "execution_count": 5,
     "metadata": {},
     "output_type": "execute_result"
    }
   ],
   "source": [
    "df.head()"
   ]
  },
  {
   "cell_type": "code",
   "execution_count": 6,
   "metadata": {},
   "outputs": [
    {
     "data": {
      "text/plain": [
       "0.0    285\n",
       "1.0    125\n",
       "Name: MACE, dtype: int64"
      ]
     },
     "execution_count": 6,
     "metadata": {},
     "output_type": "execute_result"
    }
   ],
   "source": [
    "df['MACE'].value_counts()"
   ]
  },
  {
   "cell_type": "code",
   "execution_count": 8,
   "metadata": {},
   "outputs": [
    {
     "data": {
      "text/plain": [
       "Index(['admission number ', 'Age', 'Sex', 'InhisTime', 'Revasc', 'Culp',\n",
       "       'MainVASc', 'Numsten', 'ECG', 'Killip', 'TC', 'LDL', 'CRP', 'EF', 'LV',\n",
       "       'Cr', 'UA', 'Glu', 'WBC', 'N', 'HyperP', 'Cigaret', 'OtherHis',\n",
       "       'diabetes', 'Drugcom', 'MACE'],\n",
       "      dtype='object')"
      ]
     },
     "execution_count": 8,
     "metadata": {},
     "output_type": "execute_result"
    }
   ],
   "source": [
    "df.columns"
   ]
  },
  {
   "cell_type": "code",
   "execution_count": 11,
   "metadata": {},
   "outputs": [],
   "source": [
    "a = df[df['admission number']==1025711].index.tolist()[0]\n",
    "b = df[df['admission number']==1057687].index.tolist()[0]\n",
    "#Two patients (admission number:1025711,1057687) were excluded because they didn't make multiple tests\n",
    "df = df.drop(index=[a,b])"
   ]
  },
  {
   "cell_type": "code",
   "execution_count": 15,
   "metadata": {},
   "outputs": [
    {
     "data": {
      "text/plain": [
       "(408, 26)"
      ]
     },
     "execution_count": 15,
     "metadata": {},
     "output_type": "execute_result"
    }
   ],
   "source": [
    "df.shape"
   ]
  },
  {
   "cell_type": "code",
   "execution_count": 17,
   "metadata": {},
   "outputs": [],
   "source": [
    "raw_train = df[0:244]"
   ]
  },
  {
   "cell_type": "code",
   "execution_count": 18,
   "metadata": {},
   "outputs": [
    {
     "data": {
      "text/plain": [
       "0.0    169\n",
       "1.0     75\n",
       "Name: MACE, dtype: int64"
      ]
     },
     "execution_count": 18,
     "metadata": {},
     "output_type": "execute_result"
    }
   ],
   "source": [
    "raw_train['MACE'].value_counts()"
   ]
  },
  {
   "cell_type": "code",
   "execution_count": 20,
   "metadata": {},
   "outputs": [
    {
     "data": {
      "text/plain": [
       "0.0    114\n",
       "1.0     50\n",
       "Name: MACE, dtype: int64"
      ]
     },
     "execution_count": 20,
     "metadata": {},
     "output_type": "execute_result"
    }
   ],
   "source": [
    "raw_test = df[244:408]\n",
    "raw_test['MACE'].value_counts()"
   ]
  },
  {
   "cell_type": "code",
   "execution_count": 21,
   "metadata": {},
   "outputs": [],
   "source": [
    "#output:raw_train, raw_test\n",
    "raw_train.to_excel(r'C:\\Users\\lenovo\\Revision\\Preprocessing\\raw_train.xlsx')\n",
    "raw_test.to_excel(r'C:\\Users\\lenovo\\Revision\\Preprocessing\\raw_test.xlsx')"
   ]
  }
 ],
 "metadata": {
  "kernelspec": {
   "display_name": "Python 3",
   "language": "python",
   "name": "python3"
  },
  "language_info": {
   "codemirror_mode": {
    "name": "ipython",
    "version": 3
   },
   "file_extension": ".py",
   "mimetype": "text/x-python",
   "name": "python",
   "nbconvert_exporter": "python",
   "pygments_lexer": "ipython3",
   "version": "3.6.4"
  }
 },
 "nbformat": 4,
 "nbformat_minor": 2
}
