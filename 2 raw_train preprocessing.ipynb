{
 "cells": [
  {
   "cell_type": "code",
   "execution_count": 1,
   "metadata": {},
   "outputs": [],
   "source": [
    "#input:raw_train.xlsx\n",
    "#output:processed_train.xlsx\n",
    "import numpy as np\n",
    "import pandas as pd\n",
    "import matplotlib.pyplot as plt"
   ]
  },
  {
   "cell_type": "code",
   "execution_count": 2,
   "metadata": {},
   "outputs": [],
   "source": [
    "raw_train = pd.read_excel('raw_train.xlsx',index_col=0)"
   ]
  },
  {
   "cell_type": "code",
   "execution_count": 3,
   "metadata": {},
   "outputs": [
    {
     "data": {
      "text/html": [
       "<div>\n",
       "<style scoped>\n",
       "    .dataframe tbody tr th:only-of-type {\n",
       "        vertical-align: middle;\n",
       "    }\n",
       "\n",
       "    .dataframe tbody tr th {\n",
       "        vertical-align: top;\n",
       "    }\n",
       "\n",
       "    .dataframe thead th {\n",
       "        text-align: right;\n",
       "    }\n",
       "</style>\n",
       "<table border=\"1\" class=\"dataframe\">\n",
       "  <thead>\n",
       "    <tr style=\"text-align: right;\">\n",
       "      <th></th>\n",
       "      <th>admission number</th>\n",
       "      <th>Age</th>\n",
       "      <th>Sex</th>\n",
       "      <th>InhisTime</th>\n",
       "      <th>Revasc</th>\n",
       "      <th>Culp</th>\n",
       "      <th>MainVASc</th>\n",
       "      <th>Numsten</th>\n",
       "      <th>ECG</th>\n",
       "      <th>Killip</th>\n",
       "      <th>...</th>\n",
       "      <th>UA</th>\n",
       "      <th>Glu</th>\n",
       "      <th>WBC</th>\n",
       "      <th>N</th>\n",
       "      <th>HyperP</th>\n",
       "      <th>Cigaret</th>\n",
       "      <th>OtherHis</th>\n",
       "      <th>diabetes</th>\n",
       "      <th>Drugcom</th>\n",
       "      <th>MACE</th>\n",
       "    </tr>\n",
       "  </thead>\n",
       "  <tbody>\n",
       "    <tr>\n",
       "      <th>286</th>\n",
       "      <td>1066780</td>\n",
       "      <td>67</td>\n",
       "      <td>男</td>\n",
       "      <td>2019-12-28</td>\n",
       "      <td>4h10min</td>\n",
       "      <td>2.0</td>\n",
       "      <td>3.0</td>\n",
       "      <td>4.0</td>\n",
       "      <td>1</td>\n",
       "      <td>I</td>\n",
       "      <td>...</td>\n",
       "      <td>327.0</td>\n",
       "      <td>NaN</td>\n",
       "      <td>4.63</td>\n",
       "      <td>4.08</td>\n",
       "      <td>0</td>\n",
       "      <td>1</td>\n",
       "      <td>0.0</td>\n",
       "      <td>0</td>\n",
       "      <td>1.0</td>\n",
       "      <td>0</td>\n",
       "    </tr>\n",
       "    <tr>\n",
       "      <th>204</th>\n",
       "      <td>1000364</td>\n",
       "      <td>83</td>\n",
       "      <td>女</td>\n",
       "      <td>2019-01-20</td>\n",
       "      <td>1d2h40min</td>\n",
       "      <td>3.0</td>\n",
       "      <td>3.0</td>\n",
       "      <td>3.0</td>\n",
       "      <td>0</td>\n",
       "      <td>I</td>\n",
       "      <td>...</td>\n",
       "      <td>763.0</td>\n",
       "      <td>4.44</td>\n",
       "      <td>7.15</td>\n",
       "      <td>4.08</td>\n",
       "      <td>1</td>\n",
       "      <td>0</td>\n",
       "      <td>1.0</td>\n",
       "      <td>0</td>\n",
       "      <td>1.0</td>\n",
       "      <td>0</td>\n",
       "    </tr>\n",
       "    <tr>\n",
       "      <th>30</th>\n",
       "      <td>1000659</td>\n",
       "      <td>73</td>\n",
       "      <td>男</td>\n",
       "      <td>2019-01-24</td>\n",
       "      <td>4d30min</td>\n",
       "      <td>6.0</td>\n",
       "      <td>3.0</td>\n",
       "      <td>3.0</td>\n",
       "      <td>1</td>\n",
       "      <td>Ⅱ</td>\n",
       "      <td>...</td>\n",
       "      <td>472.0</td>\n",
       "      <td>6.89</td>\n",
       "      <td>5.41</td>\n",
       "      <td>3.69</td>\n",
       "      <td>1</td>\n",
       "      <td>0</td>\n",
       "      <td>0.0</td>\n",
       "      <td>0</td>\n",
       "      <td>1.0</td>\n",
       "      <td>0</td>\n",
       "    </tr>\n",
       "    <tr>\n",
       "      <th>270</th>\n",
       "      <td>1057848</td>\n",
       "      <td>56</td>\n",
       "      <td>男</td>\n",
       "      <td>2019-12-01</td>\n",
       "      <td>45min</td>\n",
       "      <td>3.0</td>\n",
       "      <td>2.0</td>\n",
       "      <td>1.0</td>\n",
       "      <td>0</td>\n",
       "      <td>I</td>\n",
       "      <td>...</td>\n",
       "      <td>314.0</td>\n",
       "      <td>7.73</td>\n",
       "      <td>12.59</td>\n",
       "      <td>8.44</td>\n",
       "      <td>1</td>\n",
       "      <td>0</td>\n",
       "      <td>0.0</td>\n",
       "      <td>1</td>\n",
       "      <td>1.0</td>\n",
       "      <td>0</td>\n",
       "    </tr>\n",
       "    <tr>\n",
       "      <th>45</th>\n",
       "      <td>1005649</td>\n",
       "      <td>47</td>\n",
       "      <td>男</td>\n",
       "      <td>2019-03-01</td>\n",
       "      <td>9h29min</td>\n",
       "      <td>2.0</td>\n",
       "      <td>3.0</td>\n",
       "      <td>1.0</td>\n",
       "      <td>1</td>\n",
       "      <td>Ⅰ</td>\n",
       "      <td>...</td>\n",
       "      <td>217.0</td>\n",
       "      <td>NaN</td>\n",
       "      <td>11.13</td>\n",
       "      <td>9.64</td>\n",
       "      <td>0</td>\n",
       "      <td>0</td>\n",
       "      <td>1.0</td>\n",
       "      <td>0</td>\n",
       "      <td>1.0</td>\n",
       "      <td>0</td>\n",
       "    </tr>\n",
       "  </tbody>\n",
       "</table>\n",
       "<p>5 rows × 26 columns</p>\n",
       "</div>"
      ],
      "text/plain": [
       "     admission number  Age Sex  InhisTime     Revasc  Culp  MainVASc  Numsten  \\\n",
       "286           1066780   67   男 2019-12-28    4h10min   2.0       3.0      4.0   \n",
       "204           1000364   83   女 2019-01-20  1d2h40min   3.0       3.0      3.0   \n",
       "30            1000659   73   男 2019-01-24    4d30min   6.0       3.0      3.0   \n",
       "270           1057848   56   男 2019-12-01      45min   3.0       2.0      1.0   \n",
       "45            1005649   47   男 2019-03-01    9h29min   2.0       3.0      1.0   \n",
       "\n",
       "     ECG Killip  ...     UA   Glu    WBC     N  HyperP  Cigaret  OtherHis  \\\n",
       "286    1      I  ...  327.0   NaN   4.63  4.08       0        1       0.0   \n",
       "204    0      I  ...  763.0  4.44   7.15  4.08       1        0       1.0   \n",
       "30     1      Ⅱ  ...  472.0  6.89   5.41  3.69       1        0       0.0   \n",
       "270    0      I  ...  314.0  7.73  12.59  8.44       1        0       0.0   \n",
       "45     1      Ⅰ  ...  217.0   NaN  11.13  9.64       0        0       1.0   \n",
       "\n",
       "     diabetes  Drugcom  MACE  \n",
       "286         0      1.0     0  \n",
       "204         0      1.0     0  \n",
       "30          0      1.0     0  \n",
       "270         1      1.0     0  \n",
       "45          0      1.0     0  \n",
       "\n",
       "[5 rows x 26 columns]"
      ]
     },
     "execution_count": 3,
     "metadata": {},
     "output_type": "execute_result"
    }
   ],
   "source": [
    "raw_train.head()"
   ]
  },
  {
   "cell_type": "code",
   "execution_count": 4,
   "metadata": {},
   "outputs": [],
   "source": [
    "#Encode gender(man equal to 0,women equal to 0)\n",
    "raw_train.loc[raw_train['Sex'] == '男', 'Sex'] = 0\n",
    "raw_train.loc[raw_train['Sex'] == '女', 'Sex'] = 1"
   ]
  },
  {
   "cell_type": "code",
   "execution_count": 5,
   "metadata": {},
   "outputs": [
    {
     "name": "stderr",
     "output_type": "stream",
     "text": [
      "C:\\Users\\lenovo\\AppData\\Roaming\\Python\\Python36\\site-packages\\ipykernel_launcher.py:9: SettingWithCopyWarning: \n",
      "A value is trying to be set on a copy of a slice from a DataFrame\n",
      "\n",
      "See the caveats in the documentation: https://pandas.pydata.org/pandas-docs/stable/user_guide/indexing.html#returning-a-view-versus-a-copy\n",
      "  if __name__ == '__main__':\n"
     ]
    }
   ],
   "source": [
    "#Calculate the number of days after discharge(follow-up time = follow-up data - hospital date)\n",
    "import datetime\n",
    "import time\n",
    "follow_date = datetime.datetime(2020,11,1,0,0,0)\n",
    "ts = pd.DatetimeIndex([follow_date])\n",
    "for i in raw_train.index:\n",
    "    a = ts - raw_train['InhisTime'][i]\n",
    "    b = a.days\n",
    "    raw_train['InhisTime'][i] = b[0]        \n",
    "raw_train.rename(columns={'InhisTime':'Follow_up time'},inplace=True)"
   ]
  },
  {
   "cell_type": "code",
   "execution_count": 6,
   "metadata": {},
   "outputs": [
    {
     "data": {
      "text/html": [
       "<div>\n",
       "<style scoped>\n",
       "    .dataframe tbody tr th:only-of-type {\n",
       "        vertical-align: middle;\n",
       "    }\n",
       "\n",
       "    .dataframe tbody tr th {\n",
       "        vertical-align: top;\n",
       "    }\n",
       "\n",
       "    .dataframe thead th {\n",
       "        text-align: right;\n",
       "    }\n",
       "</style>\n",
       "<table border=\"1\" class=\"dataframe\">\n",
       "  <thead>\n",
       "    <tr style=\"text-align: right;\">\n",
       "      <th></th>\n",
       "      <th>admission number</th>\n",
       "      <th>Age</th>\n",
       "      <th>Sex</th>\n",
       "      <th>Follow_up time</th>\n",
       "      <th>Revasc</th>\n",
       "      <th>Culp</th>\n",
       "      <th>MainVASc</th>\n",
       "      <th>Numsten</th>\n",
       "      <th>ECG</th>\n",
       "      <th>Killip</th>\n",
       "      <th>...</th>\n",
       "      <th>UA</th>\n",
       "      <th>Glu</th>\n",
       "      <th>WBC</th>\n",
       "      <th>N</th>\n",
       "      <th>HyperP</th>\n",
       "      <th>Cigaret</th>\n",
       "      <th>OtherHis</th>\n",
       "      <th>diabetes</th>\n",
       "      <th>Drugcom</th>\n",
       "      <th>MACE</th>\n",
       "    </tr>\n",
       "  </thead>\n",
       "  <tbody>\n",
       "    <tr>\n",
       "      <th>286</th>\n",
       "      <td>1066780</td>\n",
       "      <td>67</td>\n",
       "      <td>0</td>\n",
       "      <td>309</td>\n",
       "      <td>4h10min</td>\n",
       "      <td>2.0</td>\n",
       "      <td>3.0</td>\n",
       "      <td>4.0</td>\n",
       "      <td>1</td>\n",
       "      <td>I</td>\n",
       "      <td>...</td>\n",
       "      <td>327.0</td>\n",
       "      <td>NaN</td>\n",
       "      <td>4.63</td>\n",
       "      <td>4.08</td>\n",
       "      <td>0</td>\n",
       "      <td>1</td>\n",
       "      <td>0.0</td>\n",
       "      <td>0</td>\n",
       "      <td>1.0</td>\n",
       "      <td>0</td>\n",
       "    </tr>\n",
       "    <tr>\n",
       "      <th>204</th>\n",
       "      <td>1000364</td>\n",
       "      <td>83</td>\n",
       "      <td>1</td>\n",
       "      <td>651</td>\n",
       "      <td>1d2h40min</td>\n",
       "      <td>3.0</td>\n",
       "      <td>3.0</td>\n",
       "      <td>3.0</td>\n",
       "      <td>0</td>\n",
       "      <td>I</td>\n",
       "      <td>...</td>\n",
       "      <td>763.0</td>\n",
       "      <td>4.44</td>\n",
       "      <td>7.15</td>\n",
       "      <td>4.08</td>\n",
       "      <td>1</td>\n",
       "      <td>0</td>\n",
       "      <td>1.0</td>\n",
       "      <td>0</td>\n",
       "      <td>1.0</td>\n",
       "      <td>0</td>\n",
       "    </tr>\n",
       "    <tr>\n",
       "      <th>30</th>\n",
       "      <td>1000659</td>\n",
       "      <td>73</td>\n",
       "      <td>0</td>\n",
       "      <td>647</td>\n",
       "      <td>4d30min</td>\n",
       "      <td>6.0</td>\n",
       "      <td>3.0</td>\n",
       "      <td>3.0</td>\n",
       "      <td>1</td>\n",
       "      <td>Ⅱ</td>\n",
       "      <td>...</td>\n",
       "      <td>472.0</td>\n",
       "      <td>6.89</td>\n",
       "      <td>5.41</td>\n",
       "      <td>3.69</td>\n",
       "      <td>1</td>\n",
       "      <td>0</td>\n",
       "      <td>0.0</td>\n",
       "      <td>0</td>\n",
       "      <td>1.0</td>\n",
       "      <td>0</td>\n",
       "    </tr>\n",
       "    <tr>\n",
       "      <th>270</th>\n",
       "      <td>1057848</td>\n",
       "      <td>56</td>\n",
       "      <td>0</td>\n",
       "      <td>336</td>\n",
       "      <td>45min</td>\n",
       "      <td>3.0</td>\n",
       "      <td>2.0</td>\n",
       "      <td>1.0</td>\n",
       "      <td>0</td>\n",
       "      <td>I</td>\n",
       "      <td>...</td>\n",
       "      <td>314.0</td>\n",
       "      <td>7.73</td>\n",
       "      <td>12.59</td>\n",
       "      <td>8.44</td>\n",
       "      <td>1</td>\n",
       "      <td>0</td>\n",
       "      <td>0.0</td>\n",
       "      <td>1</td>\n",
       "      <td>1.0</td>\n",
       "      <td>0</td>\n",
       "    </tr>\n",
       "    <tr>\n",
       "      <th>45</th>\n",
       "      <td>1005649</td>\n",
       "      <td>47</td>\n",
       "      <td>0</td>\n",
       "      <td>611</td>\n",
       "      <td>9h29min</td>\n",
       "      <td>2.0</td>\n",
       "      <td>3.0</td>\n",
       "      <td>1.0</td>\n",
       "      <td>1</td>\n",
       "      <td>Ⅰ</td>\n",
       "      <td>...</td>\n",
       "      <td>217.0</td>\n",
       "      <td>NaN</td>\n",
       "      <td>11.13</td>\n",
       "      <td>9.64</td>\n",
       "      <td>0</td>\n",
       "      <td>0</td>\n",
       "      <td>1.0</td>\n",
       "      <td>0</td>\n",
       "      <td>1.0</td>\n",
       "      <td>0</td>\n",
       "    </tr>\n",
       "  </tbody>\n",
       "</table>\n",
       "<p>5 rows × 26 columns</p>\n",
       "</div>"
      ],
      "text/plain": [
       "     admission number  Age Sex Follow_up time     Revasc  Culp  MainVASc  \\\n",
       "286           1066780   67   0            309    4h10min   2.0       3.0   \n",
       "204           1000364   83   1            651  1d2h40min   3.0       3.0   \n",
       "30            1000659   73   0            647    4d30min   6.0       3.0   \n",
       "270           1057848   56   0            336      45min   3.0       2.0   \n",
       "45            1005649   47   0            611    9h29min   2.0       3.0   \n",
       "\n",
       "     Numsten  ECG Killip  ...     UA   Glu    WBC     N  HyperP  Cigaret  \\\n",
       "286      4.0    1      I  ...  327.0   NaN   4.63  4.08       0        1   \n",
       "204      3.0    0      I  ...  763.0  4.44   7.15  4.08       1        0   \n",
       "30       3.0    1      Ⅱ  ...  472.0  6.89   5.41  3.69       1        0   \n",
       "270      1.0    0      I  ...  314.0  7.73  12.59  8.44       1        0   \n",
       "45       1.0    1      Ⅰ  ...  217.0   NaN  11.13  9.64       0        0   \n",
       "\n",
       "     OtherHis  diabetes  Drugcom  MACE  \n",
       "286       0.0         0      1.0     0  \n",
       "204       1.0         0      1.0     0  \n",
       "30        0.0         0      1.0     0  \n",
       "270       0.0         1      1.0     0  \n",
       "45        1.0         0      1.0     0  \n",
       "\n",
       "[5 rows x 26 columns]"
      ]
     },
     "execution_count": 6,
     "metadata": {},
     "output_type": "execute_result"
    }
   ],
   "source": [
    "raw_train.head()"
   ]
  },
  {
   "cell_type": "code",
   "execution_count": 7,
   "metadata": {},
   "outputs": [
    {
     "data": {
      "text/plain": [
       "admission number     0\n",
       "Age                  0\n",
       "Sex                  0\n",
       "Follow_up time       0\n",
       "Revasc               0\n",
       "Culp                 4\n",
       "MainVASc             6\n",
       "Numsten              1\n",
       "ECG                  0\n",
       "Killip               0\n",
       "TC                  13\n",
       "LDL                 13\n",
       "CRP                 14\n",
       "EF                  10\n",
       "LV                  10\n",
       "Cr                  11\n",
       "UA                  11\n",
       "Glu                 13\n",
       "WBC                 19\n",
       "N                   19\n",
       "HyperP               0\n",
       "Cigaret              0\n",
       "OtherHis             1\n",
       "diabetes             0\n",
       "Drugcom              1\n",
       "MACE                 0\n",
       "dtype: int64"
      ]
     },
     "execution_count": 7,
     "metadata": {},
     "output_type": "execute_result"
    }
   ],
   "source": [
    "raw_train.isnull().sum()"
   ]
  },
  {
   "cell_type": "code",
   "execution_count": 8,
   "metadata": {},
   "outputs": [],
   "source": [
    "'''\n",
    "input:a discrete variable\n",
    "output:one of all discrete variable categories\n",
    "function:generating one of all discrete variable categories according to the proportion of this categort\n",
    "For example,the number of man(labelled as 0) is 144,the number of woman(labelled as 0) is 100,\n",
    "then this function has a probability of 144/(144+100) for producing the value 0\n",
    "'''\n",
    "def randnum(data):\n",
    "    a = np.random.random()\n",
    "    count_values = (data.value_counts()).values\n",
    "    count_index = (data.value_counts()).index\n",
    "    notnull_datalen = data.notnull().sum()\n",
    "    b = []\n",
    "    sum_value = 0\n",
    "    return_value = []\n",
    "    for i in range(len(data.value_counts())):\n",
    "        sum_value += count_values[i]\n",
    "        b.append(sum_value/notnull_datalen)\n",
    "        if a < b[i]:\n",
    "            return_value = count_index[i]\n",
    "            break\n",
    "    return return_value"
   ]
  },
  {
   "cell_type": "code",
   "execution_count": 9,
   "metadata": {},
   "outputs": [
    {
     "name": "stderr",
     "output_type": "stream",
     "text": [
      "C:\\Users\\lenovo\\AppData\\Roaming\\Python\\Python36\\site-packages\\ipykernel_launcher.py:6: SettingWithCopyWarning: \n",
      "A value is trying to be set on a copy of a slice from a DataFrame\n",
      "\n",
      "See the caveats in the documentation: https://pandas.pydata.org/pandas-docs/stable/user_guide/indexing.html#returning-a-view-versus-a-copy\n",
      "  \n"
     ]
    }
   ],
   "source": [
    "#Discrete variable imputation\n",
    "#OtherHis imputation\n",
    "otherhis = raw_train['OtherHis']\n",
    "otherhis_is_null = pd.isnull(otherhis)\n",
    "otherhis_null_true = otherhis[otherhis_is_null]\n",
    "raw_train['OtherHis'][otherhis_null_true.index] = randnum(raw_train['OtherHis'])"
   ]
  },
  {
   "cell_type": "code",
   "execution_count": 10,
   "metadata": {},
   "outputs": [
    {
     "name": "stderr",
     "output_type": "stream",
     "text": [
      "C:\\Users\\lenovo\\AppData\\Roaming\\Python\\Python36\\site-packages\\ipykernel_launcher.py:6: SettingWithCopyWarning: \n",
      "A value is trying to be set on a copy of a slice from a DataFrame\n",
      "\n",
      "See the caveats in the documentation: https://pandas.pydata.org/pandas-docs/stable/user_guide/indexing.html#returning-a-view-versus-a-copy\n",
      "  \n"
     ]
    }
   ],
   "source": [
    "#Drugcom imputation\n",
    "Drugcom = raw_train['Drugcom']\n",
    "Drugcom_is_null = pd.isnull(Drugcom)\n",
    "Drugcom_null_true = Drugcom[Drugcom_is_null]\n",
    "for index_null in Drugcom_null_true.index:\n",
    "    raw_train['Drugcom'][index_null] = randnum(raw_train['Drugcom'])"
   ]
  },
  {
   "cell_type": "code",
   "execution_count": 11,
   "metadata": {},
   "outputs": [
    {
     "name": "stderr",
     "output_type": "stream",
     "text": [
      "C:\\Users\\lenovo\\AppData\\Roaming\\Python\\Python36\\site-packages\\ipykernel_launcher.py:6: SettingWithCopyWarning: \n",
      "A value is trying to be set on a copy of a slice from a DataFrame\n",
      "\n",
      "See the caveats in the documentation: https://pandas.pydata.org/pandas-docs/stable/user_guide/indexing.html#returning-a-view-versus-a-copy\n",
      "  \n"
     ]
    }
   ],
   "source": [
    "#Culp imputation\n",
    "Culp = raw_train['Culp']\n",
    "Culp_is_null = pd.isnull(Culp)\n",
    "Culp_null_true = Culp[Culp_is_null]\n",
    "for index_null in Culp_null_true.index:\n",
    "    raw_train['Culp'][index_null] = randnum(raw_train['Culp'])"
   ]
  },
  {
   "cell_type": "code",
   "execution_count": 12,
   "metadata": {},
   "outputs": [
    {
     "name": "stderr",
     "output_type": "stream",
     "text": [
      "C:\\Users\\lenovo\\AppData\\Roaming\\Python\\Python36\\site-packages\\ipykernel_launcher.py:6: SettingWithCopyWarning: \n",
      "A value is trying to be set on a copy of a slice from a DataFrame\n",
      "\n",
      "See the caveats in the documentation: https://pandas.pydata.org/pandas-docs/stable/user_guide/indexing.html#returning-a-view-versus-a-copy\n",
      "  \n"
     ]
    }
   ],
   "source": [
    "#MainVASc imputation\n",
    "MainVASc = raw_train['MainVASc']\n",
    "MainVASc_is_null = pd.isnull(MainVASc)\n",
    "MainVASc_null_true = MainVASc[MainVASc_is_null]\n",
    "for index_null in MainVASc_null_true.index:\n",
    "    raw_train['MainVASc'][index_null] = randnum(raw_train['MainVASc'])"
   ]
  },
  {
   "cell_type": "code",
   "execution_count": 13,
   "metadata": {},
   "outputs": [
    {
     "name": "stderr",
     "output_type": "stream",
     "text": [
      "C:\\Users\\lenovo\\AppData\\Roaming\\Python\\Python36\\site-packages\\ipykernel_launcher.py:5: SettingWithCopyWarning: \n",
      "A value is trying to be set on a copy of a slice from a DataFrame\n",
      "\n",
      "See the caveats in the documentation: https://pandas.pydata.org/pandas-docs/stable/user_guide/indexing.html#returning-a-view-versus-a-copy\n",
      "  \"\"\"\n"
     ]
    }
   ],
   "source": [
    "#Numsten imputation\n",
    "Numsten = raw_train['Numsten']\n",
    "Numsten_is_null = pd.isnull(Numsten)\n",
    "Numsten_null_true = Numsten[Numsten_is_null]\n",
    "raw_train['Numsten'][Numsten_null_true.index] = randnum(raw_train['Numsten'])"
   ]
  },
  {
   "cell_type": "code",
   "execution_count": 14,
   "metadata": {},
   "outputs": [
    {
     "data": {
      "text/plain": [
       "admission number     0\n",
       "Age                  0\n",
       "Sex                  0\n",
       "Follow_up time       0\n",
       "Revasc               0\n",
       "Culp                 0\n",
       "MainVASc             0\n",
       "Numsten              0\n",
       "ECG                  0\n",
       "Killip               0\n",
       "TC                  13\n",
       "LDL                 13\n",
       "CRP                 14\n",
       "EF                  10\n",
       "LV                  10\n",
       "Cr                  11\n",
       "UA                  11\n",
       "Glu                 13\n",
       "WBC                 19\n",
       "N                   19\n",
       "HyperP               0\n",
       "Cigaret              0\n",
       "OtherHis             0\n",
       "diabetes             0\n",
       "Drugcom              0\n",
       "MACE                 0\n",
       "dtype: int64"
      ]
     },
     "execution_count": 14,
     "metadata": {},
     "output_type": "execute_result"
    }
   ],
   "source": [
    "#The imputation of discrete variables is complete\n",
    "raw_train.isnull().sum()"
   ]
  },
  {
   "cell_type": "code",
   "execution_count": 15,
   "metadata": {},
   "outputs": [],
   "source": [
    "'''\n",
    "input:a continuous variable\n",
    "output:None\n",
    "function:imputing a continuous variable with the values generated by Gaussian distribution.\n",
    "if the generated values are not in the range of the continuous variable,the variable will be imputed with the mean of this variable\n",
    "'''\n",
    "def fill_null(data):\n",
    "    data_is_null = pd.isnull(data)\n",
    "    data_null_true = data[data_is_null]\n",
    "    for index_null in data_null_true.index:\n",
    "        gauss = np.random.normal(np.mean(data),np.var(data),1)\n",
    "        if gauss > raw_train[data.name].max():\n",
    "            raw_train[data.name][index_null] = np.mean(data)\n",
    "        elif gauss < raw_train[data.name].min():\n",
    "            raw_train[data.name][index_null] = np.mean(data)\n",
    "        else:\n",
    "            raw_train[data.name][index_null] = gauss"
   ]
  },
  {
   "cell_type": "code",
   "execution_count": 16,
   "metadata": {},
   "outputs": [],
   "source": [
    "postive_train = raw_train[raw_train['MACE'] == 1][:]\n",
    "negative_train = raw_train[raw_train['MACE'] == 0][:]"
   ]
  },
  {
   "cell_type": "code",
   "execution_count": 17,
   "metadata": {},
   "outputs": [
    {
     "name": "stderr",
     "output_type": "stream",
     "text": [
      "C:\\Users\\lenovo\\AppData\\Roaming\\Python\\Python36\\site-packages\\ipykernel_launcher.py:17: SettingWithCopyWarning: \n",
      "A value is trying to be set on a copy of a slice from a DataFrame\n",
      "\n",
      "See the caveats in the documentation: https://pandas.pydata.org/pandas-docs/stable/user_guide/indexing.html#returning-a-view-versus-a-copy\n"
     ]
    }
   ],
   "source": [
    "#imputation of TC\n",
    "postive_TC = postive_train['TC']\n",
    "negative_TC = negative_train['TC']\n",
    "fill_null(postive_TC)\n",
    "fill_null(negative_TC)"
   ]
  },
  {
   "cell_type": "code",
   "execution_count": 18,
   "metadata": {},
   "outputs": [
    {
     "name": "stderr",
     "output_type": "stream",
     "text": [
      "C:\\Users\\lenovo\\AppData\\Roaming\\Python\\Python36\\site-packages\\ipykernel_launcher.py:17: SettingWithCopyWarning: \n",
      "A value is trying to be set on a copy of a slice from a DataFrame\n",
      "\n",
      "See the caveats in the documentation: https://pandas.pydata.org/pandas-docs/stable/user_guide/indexing.html#returning-a-view-versus-a-copy\n"
     ]
    }
   ],
   "source": [
    "#imputation of LDL\n",
    "postive_LDL = postive_train['LDL']\n",
    "negative_LDL = negative_train['LDL']\n",
    "fill_null(postive_LDL)\n",
    "fill_null(negative_LDL)"
   ]
  },
  {
   "cell_type": "code",
   "execution_count": 19,
   "metadata": {},
   "outputs": [
    {
     "name": "stderr",
     "output_type": "stream",
     "text": [
      "C:\\Users\\lenovo\\AppData\\Roaming\\Python\\Python36\\site-packages\\ipykernel_launcher.py:17: SettingWithCopyWarning: \n",
      "A value is trying to be set on a copy of a slice from a DataFrame\n",
      "\n",
      "See the caveats in the documentation: https://pandas.pydata.org/pandas-docs/stable/user_guide/indexing.html#returning-a-view-versus-a-copy\n",
      "C:\\Users\\lenovo\\AppData\\Roaming\\Python\\Python36\\site-packages\\ipykernel_launcher.py:13: SettingWithCopyWarning: \n",
      "A value is trying to be set on a copy of a slice from a DataFrame\n",
      "\n",
      "See the caveats in the documentation: https://pandas.pydata.org/pandas-docs/stable/user_guide/indexing.html#returning-a-view-versus-a-copy\n",
      "  del sys.path[0]\n",
      "C:\\Users\\lenovo\\AppData\\Roaming\\Python\\Python36\\site-packages\\ipykernel_launcher.py:15: SettingWithCopyWarning: \n",
      "A value is trying to be set on a copy of a slice from a DataFrame\n",
      "\n",
      "See the caveats in the documentation: https://pandas.pydata.org/pandas-docs/stable/user_guide/indexing.html#returning-a-view-versus-a-copy\n",
      "  from ipykernel import kernelapp as app\n"
     ]
    }
   ],
   "source": [
    "#imputation of CRP\n",
    "postive_CRP = postive_train['CRP']\n",
    "negative_CRP = negative_train['CRP']\n",
    "fill_null(postive_CRP)\n",
    "fill_null(negative_CRP)"
   ]
  },
  {
   "cell_type": "code",
   "execution_count": 20,
   "metadata": {},
   "outputs": [
    {
     "name": "stderr",
     "output_type": "stream",
     "text": [
      "C:\\Users\\lenovo\\AppData\\Roaming\\Python\\Python36\\site-packages\\ipykernel_launcher.py:17: SettingWithCopyWarning: \n",
      "A value is trying to be set on a copy of a slice from a DataFrame\n",
      "\n",
      "See the caveats in the documentation: https://pandas.pydata.org/pandas-docs/stable/user_guide/indexing.html#returning-a-view-versus-a-copy\n"
     ]
    }
   ],
   "source": [
    "#imputation of EF\n",
    "postive_EF = postive_train['EF']\n",
    "negative_EF = negative_train['EF']\n",
    "fill_null(postive_EF)\n",
    "fill_null(negative_EF)"
   ]
  },
  {
   "cell_type": "code",
   "execution_count": 21,
   "metadata": {},
   "outputs": [
    {
     "name": "stderr",
     "output_type": "stream",
     "text": [
      "C:\\Users\\lenovo\\AppData\\Roaming\\Python\\Python36\\site-packages\\ipykernel_launcher.py:13: SettingWithCopyWarning: \n",
      "A value is trying to be set on a copy of a slice from a DataFrame\n",
      "\n",
      "See the caveats in the documentation: https://pandas.pydata.org/pandas-docs/stable/user_guide/indexing.html#returning-a-view-versus-a-copy\n",
      "  del sys.path[0]\n",
      "C:\\Users\\lenovo\\AppData\\Roaming\\Python\\Python36\\site-packages\\ipykernel_launcher.py:17: SettingWithCopyWarning: \n",
      "A value is trying to be set on a copy of a slice from a DataFrame\n",
      "\n",
      "See the caveats in the documentation: https://pandas.pydata.org/pandas-docs/stable/user_guide/indexing.html#returning-a-view-versus-a-copy\n",
      "C:\\Users\\lenovo\\AppData\\Roaming\\Python\\Python36\\site-packages\\ipykernel_launcher.py:15: SettingWithCopyWarning: \n",
      "A value is trying to be set on a copy of a slice from a DataFrame\n",
      "\n",
      "See the caveats in the documentation: https://pandas.pydata.org/pandas-docs/stable/user_guide/indexing.html#returning-a-view-versus-a-copy\n",
      "  from ipykernel import kernelapp as app\n"
     ]
    }
   ],
   "source": [
    "#imputation of LV\n",
    "postive_LV = postive_train['LV']\n",
    "negative_LV = negative_train['LV']\n",
    "fill_null(postive_LV)\n",
    "fill_null(negative_LV)"
   ]
  },
  {
   "cell_type": "code",
   "execution_count": 22,
   "metadata": {},
   "outputs": [
    {
     "name": "stderr",
     "output_type": "stream",
     "text": [
      "C:\\Users\\lenovo\\AppData\\Roaming\\Python\\Python36\\site-packages\\ipykernel_launcher.py:13: SettingWithCopyWarning: \n",
      "A value is trying to be set on a copy of a slice from a DataFrame\n",
      "\n",
      "See the caveats in the documentation: https://pandas.pydata.org/pandas-docs/stable/user_guide/indexing.html#returning-a-view-versus-a-copy\n",
      "  del sys.path[0]\n",
      "C:\\Users\\lenovo\\AppData\\Roaming\\Python\\Python36\\site-packages\\ipykernel_launcher.py:15: SettingWithCopyWarning: \n",
      "A value is trying to be set on a copy of a slice from a DataFrame\n",
      "\n",
      "See the caveats in the documentation: https://pandas.pydata.org/pandas-docs/stable/user_guide/indexing.html#returning-a-view-versus-a-copy\n",
      "  from ipykernel import kernelapp as app\n",
      "C:\\Users\\lenovo\\AppData\\Roaming\\Python\\Python36\\site-packages\\ipykernel_launcher.py:17: SettingWithCopyWarning: \n",
      "A value is trying to be set on a copy of a slice from a DataFrame\n",
      "\n",
      "See the caveats in the documentation: https://pandas.pydata.org/pandas-docs/stable/user_guide/indexing.html#returning-a-view-versus-a-copy\n"
     ]
    }
   ],
   "source": [
    "#imputation of Cr\n",
    "postive_Cr = postive_train['Cr']\n",
    "negative_Cr = negative_train['Cr']\n",
    "fill_null(postive_Cr)\n",
    "fill_null(negative_Cr)"
   ]
  },
  {
   "cell_type": "code",
   "execution_count": 23,
   "metadata": {
    "scrolled": true
   },
   "outputs": [
    {
     "name": "stderr",
     "output_type": "stream",
     "text": [
      "C:\\Users\\lenovo\\AppData\\Roaming\\Python\\Python36\\site-packages\\ipykernel_launcher.py:13: SettingWithCopyWarning: \n",
      "A value is trying to be set on a copy of a slice from a DataFrame\n",
      "\n",
      "See the caveats in the documentation: https://pandas.pydata.org/pandas-docs/stable/user_guide/indexing.html#returning-a-view-versus-a-copy\n",
      "  del sys.path[0]\n",
      "C:\\Users\\lenovo\\AppData\\Roaming\\Python\\Python36\\site-packages\\ipykernel_launcher.py:15: SettingWithCopyWarning: \n",
      "A value is trying to be set on a copy of a slice from a DataFrame\n",
      "\n",
      "See the caveats in the documentation: https://pandas.pydata.org/pandas-docs/stable/user_guide/indexing.html#returning-a-view-versus-a-copy\n",
      "  from ipykernel import kernelapp as app\n"
     ]
    }
   ],
   "source": [
    "#imputation of UA\n",
    "postive_UA = postive_train['UA']\n",
    "negative_UA = negative_train['UA']\n",
    "fill_null(postive_UA)\n",
    "fill_null(negative_UA)"
   ]
  },
  {
   "cell_type": "code",
   "execution_count": 24,
   "metadata": {},
   "outputs": [
    {
     "name": "stderr",
     "output_type": "stream",
     "text": [
      "C:\\Users\\lenovo\\AppData\\Roaming\\Python\\Python36\\site-packages\\ipykernel_launcher.py:17: SettingWithCopyWarning: \n",
      "A value is trying to be set on a copy of a slice from a DataFrame\n",
      "\n",
      "See the caveats in the documentation: https://pandas.pydata.org/pandas-docs/stable/user_guide/indexing.html#returning-a-view-versus-a-copy\n",
      "C:\\Users\\lenovo\\AppData\\Roaming\\Python\\Python36\\site-packages\\ipykernel_launcher.py:15: SettingWithCopyWarning: \n",
      "A value is trying to be set on a copy of a slice from a DataFrame\n",
      "\n",
      "See the caveats in the documentation: https://pandas.pydata.org/pandas-docs/stable/user_guide/indexing.html#returning-a-view-versus-a-copy\n",
      "  from ipykernel import kernelapp as app\n"
     ]
    }
   ],
   "source": [
    "#imputation of Glu\n",
    "postive_Glu = postive_train['Glu']\n",
    "negative_Glu = negative_train['Glu']\n",
    "fill_null(postive_Glu)\n",
    "fill_null(negative_Glu)"
   ]
  },
  {
   "cell_type": "code",
   "execution_count": 25,
   "metadata": {},
   "outputs": [
    {
     "name": "stderr",
     "output_type": "stream",
     "text": [
      "C:\\Users\\lenovo\\AppData\\Roaming\\Python\\Python36\\site-packages\\ipykernel_launcher.py:13: SettingWithCopyWarning: \n",
      "A value is trying to be set on a copy of a slice from a DataFrame\n",
      "\n",
      "See the caveats in the documentation: https://pandas.pydata.org/pandas-docs/stable/user_guide/indexing.html#returning-a-view-versus-a-copy\n",
      "  del sys.path[0]\n",
      "C:\\Users\\lenovo\\AppData\\Roaming\\Python\\Python36\\site-packages\\ipykernel_launcher.py:15: SettingWithCopyWarning: \n",
      "A value is trying to be set on a copy of a slice from a DataFrame\n",
      "\n",
      "See the caveats in the documentation: https://pandas.pydata.org/pandas-docs/stable/user_guide/indexing.html#returning-a-view-versus-a-copy\n",
      "  from ipykernel import kernelapp as app\n",
      "C:\\Users\\lenovo\\AppData\\Roaming\\Python\\Python36\\site-packages\\ipykernel_launcher.py:17: SettingWithCopyWarning: \n",
      "A value is trying to be set on a copy of a slice from a DataFrame\n",
      "\n",
      "See the caveats in the documentation: https://pandas.pydata.org/pandas-docs/stable/user_guide/indexing.html#returning-a-view-versus-a-copy\n"
     ]
    }
   ],
   "source": [
    "#imputation of WBC\n",
    "postive_WBC = postive_train['WBC']\n",
    "negative_WBC = negative_train['WBC']\n",
    "fill_null(postive_WBC)\n",
    "fill_null(negative_WBC)"
   ]
  },
  {
   "cell_type": "code",
   "execution_count": 26,
   "metadata": {},
   "outputs": [
    {
     "name": "stderr",
     "output_type": "stream",
     "text": [
      "C:\\Users\\lenovo\\AppData\\Roaming\\Python\\Python36\\site-packages\\ipykernel_launcher.py:17: SettingWithCopyWarning: \n",
      "A value is trying to be set on a copy of a slice from a DataFrame\n",
      "\n",
      "See the caveats in the documentation: https://pandas.pydata.org/pandas-docs/stable/user_guide/indexing.html#returning-a-view-versus-a-copy\n",
      "C:\\Users\\lenovo\\AppData\\Roaming\\Python\\Python36\\site-packages\\ipykernel_launcher.py:13: SettingWithCopyWarning: \n",
      "A value is trying to be set on a copy of a slice from a DataFrame\n",
      "\n",
      "See the caveats in the documentation: https://pandas.pydata.org/pandas-docs/stable/user_guide/indexing.html#returning-a-view-versus-a-copy\n",
      "  del sys.path[0]\n",
      "C:\\Users\\lenovo\\AppData\\Roaming\\Python\\Python36\\site-packages\\ipykernel_launcher.py:15: SettingWithCopyWarning: \n",
      "A value is trying to be set on a copy of a slice from a DataFrame\n",
      "\n",
      "See the caveats in the documentation: https://pandas.pydata.org/pandas-docs/stable/user_guide/indexing.html#returning-a-view-versus-a-copy\n",
      "  from ipykernel import kernelapp as app\n"
     ]
    }
   ],
   "source": [
    "#imputation of N\n",
    "postive_N = postive_train['N']\n",
    "negative_N = negative_train['N']\n",
    "fill_null(postive_N)\n",
    "fill_null(negative_N)"
   ]
  },
  {
   "cell_type": "code",
   "execution_count": 27,
   "metadata": {},
   "outputs": [
    {
     "data": {
      "text/plain": [
       "admission number    0\n",
       "Age                 0\n",
       "Sex                 0\n",
       "Follow_up time      0\n",
       "Revasc              0\n",
       "Culp                0\n",
       "MainVASc            0\n",
       "Numsten             0\n",
       "ECG                 0\n",
       "Killip              0\n",
       "TC                  0\n",
       "LDL                 0\n",
       "CRP                 0\n",
       "EF                  0\n",
       "LV                  0\n",
       "Cr                  0\n",
       "UA                  0\n",
       "Glu                 0\n",
       "WBC                 0\n",
       "N                   0\n",
       "HyperP              0\n",
       "Cigaret             0\n",
       "OtherHis            0\n",
       "diabetes            0\n",
       "Drugcom             0\n",
       "MACE                0\n",
       "dtype: int64"
      ]
     },
     "execution_count": 27,
     "metadata": {},
     "output_type": "execute_result"
    }
   ],
   "source": [
    "#The imputation of continuous and discrete variables is complete\n",
    "raw_train.isnull().sum()"
   ]
  },
  {
   "cell_type": "code",
   "execution_count": 28,
   "metadata": {},
   "outputs": [],
   "source": [
    "#input：strings of 'Revasc(Time of revascularization)'\n",
    "#output：minutes\n",
    "#d,h,m convert to minutes\n",
    "def time_conv(strings):\n",
    "    day = 0\n",
    "    hour = 0\n",
    "    mins = 0\n",
    "    if 'd' in strings:\n",
    "        d_end = strings.index('d')\n",
    "        day = int(strings[0:d_end])\n",
    "    if 'h' in strings:\n",
    "        if 'd' in strings:\n",
    "            h_star = strings.index('d')+1\n",
    "            h_end = strings.index('h')\n",
    "            hour = int(strings[h_star:h_end])\n",
    "        else:\n",
    "            h_end = strings.index('h')\n",
    "            hour = int(strings[0:h_end])\n",
    "    if 'm' in strings:\n",
    "        if 'h' in strings:\n",
    "            m_star = strings.index('h')+1\n",
    "            m_end = strings.index('m')\n",
    "            mins = int(strings[m_star:m_end])\n",
    "        elif 'd' in strings:\n",
    "            m_star = strings.index('d')+1\n",
    "            m_end = strings.index('m')\n",
    "            mins = int(strings[m_star:m_end])\n",
    "        else:\n",
    "            m_end = strings.index('m')\n",
    "            mins = int(strings[0:m_end])\n",
    "    if day > 3:\n",
    "        day = 3\n",
    "    time_mins = day*1440+hour*60+mins\n",
    "    return time_mins"
   ]
  },
  {
   "cell_type": "code",
   "execution_count": 29,
   "metadata": {},
   "outputs": [
    {
     "name": "stderr",
     "output_type": "stream",
     "text": [
      "C:\\Users\\lenovo\\AppData\\Roaming\\Python\\Python36\\site-packages\\ipykernel_launcher.py:3: SettingWithCopyWarning: \n",
      "A value is trying to be set on a copy of a slice from a DataFrame\n",
      "\n",
      "See the caveats in the documentation: https://pandas.pydata.org/pandas-docs/stable/user_guide/indexing.html#returning-a-view-versus-a-copy\n",
      "  This is separate from the ipykernel package so we can avoid doing imports until\n"
     ]
    }
   ],
   "source": [
    "for i in raw_train.index:\n",
    "    conv = raw_train['Revasc'][i] \n",
    "    raw_train['Revasc'][i] = time_conv(conv)\n",
    "raw_train['Revasc'] = raw_train['Revasc'].astype(int)"
   ]
  },
  {
   "cell_type": "code",
   "execution_count": 30,
   "metadata": {},
   "outputs": [
    {
     "data": {
      "text/html": [
       "<div>\n",
       "<style scoped>\n",
       "    .dataframe tbody tr th:only-of-type {\n",
       "        vertical-align: middle;\n",
       "    }\n",
       "\n",
       "    .dataframe tbody tr th {\n",
       "        vertical-align: top;\n",
       "    }\n",
       "\n",
       "    .dataframe thead th {\n",
       "        text-align: right;\n",
       "    }\n",
       "</style>\n",
       "<table border=\"1\" class=\"dataframe\">\n",
       "  <thead>\n",
       "    <tr style=\"text-align: right;\">\n",
       "      <th></th>\n",
       "      <th>admission number</th>\n",
       "      <th>Age</th>\n",
       "      <th>Sex</th>\n",
       "      <th>Follow_up time</th>\n",
       "      <th>Revasc</th>\n",
       "      <th>Culp</th>\n",
       "      <th>MainVASc</th>\n",
       "      <th>Numsten</th>\n",
       "      <th>ECG</th>\n",
       "      <th>Killip</th>\n",
       "      <th>...</th>\n",
       "      <th>UA</th>\n",
       "      <th>Glu</th>\n",
       "      <th>WBC</th>\n",
       "      <th>N</th>\n",
       "      <th>HyperP</th>\n",
       "      <th>Cigaret</th>\n",
       "      <th>OtherHis</th>\n",
       "      <th>diabetes</th>\n",
       "      <th>Drugcom</th>\n",
       "      <th>MACE</th>\n",
       "    </tr>\n",
       "  </thead>\n",
       "  <tbody>\n",
       "    <tr>\n",
       "      <th>286</th>\n",
       "      <td>1066780</td>\n",
       "      <td>67</td>\n",
       "      <td>0</td>\n",
       "      <td>309</td>\n",
       "      <td>250</td>\n",
       "      <td>2.0</td>\n",
       "      <td>3.0</td>\n",
       "      <td>4.0</td>\n",
       "      <td>1</td>\n",
       "      <td>I</td>\n",
       "      <td>...</td>\n",
       "      <td>327.0</td>\n",
       "      <td>14.721401</td>\n",
       "      <td>4.63</td>\n",
       "      <td>4.08</td>\n",
       "      <td>0</td>\n",
       "      <td>1</td>\n",
       "      <td>0.0</td>\n",
       "      <td>0</td>\n",
       "      <td>1.0</td>\n",
       "      <td>0</td>\n",
       "    </tr>\n",
       "    <tr>\n",
       "      <th>204</th>\n",
       "      <td>1000364</td>\n",
       "      <td>83</td>\n",
       "      <td>1</td>\n",
       "      <td>651</td>\n",
       "      <td>1600</td>\n",
       "      <td>3.0</td>\n",
       "      <td>3.0</td>\n",
       "      <td>3.0</td>\n",
       "      <td>0</td>\n",
       "      <td>I</td>\n",
       "      <td>...</td>\n",
       "      <td>763.0</td>\n",
       "      <td>4.440000</td>\n",
       "      <td>7.15</td>\n",
       "      <td>4.08</td>\n",
       "      <td>1</td>\n",
       "      <td>0</td>\n",
       "      <td>1.0</td>\n",
       "      <td>0</td>\n",
       "      <td>1.0</td>\n",
       "      <td>0</td>\n",
       "    </tr>\n",
       "    <tr>\n",
       "      <th>30</th>\n",
       "      <td>1000659</td>\n",
       "      <td>73</td>\n",
       "      <td>0</td>\n",
       "      <td>647</td>\n",
       "      <td>4350</td>\n",
       "      <td>6.0</td>\n",
       "      <td>3.0</td>\n",
       "      <td>3.0</td>\n",
       "      <td>1</td>\n",
       "      <td>Ⅱ</td>\n",
       "      <td>...</td>\n",
       "      <td>472.0</td>\n",
       "      <td>6.890000</td>\n",
       "      <td>5.41</td>\n",
       "      <td>3.69</td>\n",
       "      <td>1</td>\n",
       "      <td>0</td>\n",
       "      <td>0.0</td>\n",
       "      <td>0</td>\n",
       "      <td>1.0</td>\n",
       "      <td>0</td>\n",
       "    </tr>\n",
       "    <tr>\n",
       "      <th>270</th>\n",
       "      <td>1057848</td>\n",
       "      <td>56</td>\n",
       "      <td>0</td>\n",
       "      <td>336</td>\n",
       "      <td>45</td>\n",
       "      <td>3.0</td>\n",
       "      <td>2.0</td>\n",
       "      <td>1.0</td>\n",
       "      <td>0</td>\n",
       "      <td>I</td>\n",
       "      <td>...</td>\n",
       "      <td>314.0</td>\n",
       "      <td>7.730000</td>\n",
       "      <td>12.59</td>\n",
       "      <td>8.44</td>\n",
       "      <td>1</td>\n",
       "      <td>0</td>\n",
       "      <td>0.0</td>\n",
       "      <td>1</td>\n",
       "      <td>1.0</td>\n",
       "      <td>0</td>\n",
       "    </tr>\n",
       "    <tr>\n",
       "      <th>45</th>\n",
       "      <td>1005649</td>\n",
       "      <td>47</td>\n",
       "      <td>0</td>\n",
       "      <td>611</td>\n",
       "      <td>569</td>\n",
       "      <td>2.0</td>\n",
       "      <td>3.0</td>\n",
       "      <td>1.0</td>\n",
       "      <td>1</td>\n",
       "      <td>Ⅰ</td>\n",
       "      <td>...</td>\n",
       "      <td>217.0</td>\n",
       "      <td>8.134038</td>\n",
       "      <td>11.13</td>\n",
       "      <td>9.64</td>\n",
       "      <td>0</td>\n",
       "      <td>0</td>\n",
       "      <td>1.0</td>\n",
       "      <td>0</td>\n",
       "      <td>1.0</td>\n",
       "      <td>0</td>\n",
       "    </tr>\n",
       "  </tbody>\n",
       "</table>\n",
       "<p>5 rows × 26 columns</p>\n",
       "</div>"
      ],
      "text/plain": [
       "     admission number  Age Sex Follow_up time  Revasc  Culp  MainVASc  \\\n",
       "286           1066780   67   0            309     250   2.0       3.0   \n",
       "204           1000364   83   1            651    1600   3.0       3.0   \n",
       "30            1000659   73   0            647    4350   6.0       3.0   \n",
       "270           1057848   56   0            336      45   3.0       2.0   \n",
       "45            1005649   47   0            611     569   2.0       3.0   \n",
       "\n",
       "     Numsten  ECG Killip  ...     UA        Glu    WBC     N  HyperP  Cigaret  \\\n",
       "286      4.0    1      I  ...  327.0  14.721401   4.63  4.08       0        1   \n",
       "204      3.0    0      I  ...  763.0   4.440000   7.15  4.08       1        0   \n",
       "30       3.0    1      Ⅱ  ...  472.0   6.890000   5.41  3.69       1        0   \n",
       "270      1.0    0      I  ...  314.0   7.730000  12.59  8.44       1        0   \n",
       "45       1.0    1      Ⅰ  ...  217.0   8.134038  11.13  9.64       0        0   \n",
       "\n",
       "     OtherHis  diabetes  Drugcom  MACE  \n",
       "286       0.0         0      1.0     0  \n",
       "204       1.0         0      1.0     0  \n",
       "30        0.0         0      1.0     0  \n",
       "270       0.0         1      1.0     0  \n",
       "45        1.0         0      1.0     0  \n",
       "\n",
       "[5 rows x 26 columns]"
      ]
     },
     "execution_count": 30,
     "metadata": {},
     "output_type": "execute_result"
    }
   ],
   "source": [
    "raw_train.head()"
   ]
  },
  {
   "cell_type": "code",
   "execution_count": 31,
   "metadata": {},
   "outputs": [
    {
     "name": "stderr",
     "output_type": "stream",
     "text": [
      "C:\\Users\\lenovo\\AppData\\Roaming\\Python\\Python36\\site-packages\\ipykernel_launcher.py:3: SettingWithCopyWarning: \n",
      "A value is trying to be set on a copy of a slice from a DataFrame\n",
      "\n",
      "See the caveats in the documentation: https://pandas.pydata.org/pandas-docs/stable/user_guide/indexing.html#returning-a-view-versus-a-copy\n",
      "  This is separate from the ipykernel package so we can avoid doing imports until\n",
      "C:\\Users\\lenovo\\AppData\\Roaming\\Python\\Python36\\site-packages\\ipykernel_launcher.py:11: SettingWithCopyWarning: \n",
      "A value is trying to be set on a copy of a slice from a DataFrame\n",
      "\n",
      "See the caveats in the documentation: https://pandas.pydata.org/pandas-docs/stable/user_guide/indexing.html#returning-a-view-versus-a-copy\n",
      "  # This is added back by InteractiveShellApp.init_path()\n",
      "C:\\Users\\lenovo\\AppData\\Roaming\\Python\\Python36\\site-packages\\ipykernel_launcher.py:5: SettingWithCopyWarning: \n",
      "A value is trying to be set on a copy of a slice from a DataFrame\n",
      "\n",
      "See the caveats in the documentation: https://pandas.pydata.org/pandas-docs/stable/user_guide/indexing.html#returning-a-view-versus-a-copy\n",
      "  \"\"\"\n",
      "C:\\Users\\lenovo\\AppData\\Roaming\\Python\\Python36\\site-packages\\ipykernel_launcher.py:17: SettingWithCopyWarning: \n",
      "A value is trying to be set on a copy of a slice from a DataFrame\n",
      "\n",
      "See the caveats in the documentation: https://pandas.pydata.org/pandas-docs/stable/user_guide/indexing.html#returning-a-view-versus-a-copy\n",
      "C:\\Users\\lenovo\\AppData\\Roaming\\Python\\Python36\\site-packages\\ipykernel_launcher.py:9: SettingWithCopyWarning: \n",
      "A value is trying to be set on a copy of a slice from a DataFrame\n",
      "\n",
      "See the caveats in the documentation: https://pandas.pydata.org/pandas-docs/stable/user_guide/indexing.html#returning-a-view-versus-a-copy\n",
      "  if __name__ == '__main__':\n",
      "C:\\Users\\lenovo\\AppData\\Roaming\\Python\\Python36\\site-packages\\ipykernel_launcher.py:15: SettingWithCopyWarning: \n",
      "A value is trying to be set on a copy of a slice from a DataFrame\n",
      "\n",
      "See the caveats in the documentation: https://pandas.pydata.org/pandas-docs/stable/user_guide/indexing.html#returning-a-view-versus-a-copy\n",
      "  from ipykernel import kernelapp as app\n",
      "C:\\Users\\lenovo\\AppData\\Roaming\\Python\\Python36\\site-packages\\ipykernel_launcher.py:19: SettingWithCopyWarning: \n",
      "A value is trying to be set on a copy of a slice from a DataFrame\n",
      "\n",
      "See the caveats in the documentation: https://pandas.pydata.org/pandas-docs/stable/user_guide/indexing.html#returning-a-view-versus-a-copy\n",
      "C:\\Users\\lenovo\\AppData\\Roaming\\Python\\Python36\\site-packages\\ipykernel_launcher.py:13: SettingWithCopyWarning: \n",
      "A value is trying to be set on a copy of a slice from a DataFrame\n",
      "\n",
      "See the caveats in the documentation: https://pandas.pydata.org/pandas-docs/stable/user_guide/indexing.html#returning-a-view-versus-a-copy\n",
      "  del sys.path[0]\n",
      "C:\\Users\\lenovo\\AppData\\Roaming\\Python\\Python36\\site-packages\\ipykernel_launcher.py:7: SettingWithCopyWarning: \n",
      "A value is trying to be set on a copy of a slice from a DataFrame\n",
      "\n",
      "See the caveats in the documentation: https://pandas.pydata.org/pandas-docs/stable/user_guide/indexing.html#returning-a-view-versus-a-copy\n",
      "  import sys\n"
     ]
    }
   ],
   "source": [
    "for i in raw_train.index:\n",
    "    if raw_train['Killip'][i] == 'I':\n",
    "        raw_train['Killip'][i] = 1\n",
    "    elif raw_train['Killip'][i] == 'Ⅰ':\n",
    "        raw_train['Killip'][i] = 1\n",
    "    elif raw_train['Killip'][i] == 'I ':\n",
    "        raw_train['Killip'][i] = 1\n",
    "    elif raw_train['Killip'][i] == 'II':\n",
    "        raw_train['Killip'][i] = 2\n",
    "    elif raw_train['Killip'][i] == 'Ⅱ':\n",
    "        raw_train['Killip'][i] = 2\n",
    "    elif raw_train['Killip'][i] == 'III':\n",
    "        raw_train['Killip'][i] = 3\n",
    "    elif raw_train['Killip'][i] == 'Ⅲ':\n",
    "        raw_train['Killip'][i] = 3\n",
    "    elif raw_train['Killip'][i] == 'IV':\n",
    "        raw_train['Killip'][i] = 4\n",
    "    elif raw_train['Killip'][i] == 'Ⅳ':\n",
    "        raw_train['Killip'][i] = 4"
   ]
  },
  {
   "cell_type": "code",
   "execution_count": 32,
   "metadata": {},
   "outputs": [],
   "source": [
    "raw_train['Killip'] = raw_train['Killip'].astype(int)"
   ]
  },
  {
   "cell_type": "code",
   "execution_count": 33,
   "metadata": {},
   "outputs": [],
   "source": [
    "raw_train['Sex'] = raw_train['Sex'].astype(int)\n",
    "raw_train['Follow_up time'] = raw_train['Follow_up time'].astype(int)"
   ]
  },
  {
   "cell_type": "code",
   "execution_count": 34,
   "metadata": {},
   "outputs": [],
   "source": [
    "raw_train = raw_train.astype(float)"
   ]
  },
  {
   "cell_type": "code",
   "execution_count": 35,
   "metadata": {},
   "outputs": [],
   "source": [
    "raw_train.to_excel(r'C:\\Users\\lenovo\\Revision\\Preprocessing\\processed_train.xlsx')"
   ]
  },
  {
   "cell_type": "code",
   "execution_count": 36,
   "metadata": {},
   "outputs": [
    {
     "data": {
      "text/plain": [
       "admission number    float64\n",
       "Age                 float64\n",
       "Sex                 float64\n",
       "Follow_up time      float64\n",
       "Revasc              float64\n",
       "Culp                float64\n",
       "MainVASc            float64\n",
       "Numsten             float64\n",
       "ECG                 float64\n",
       "Killip              float64\n",
       "TC                  float64\n",
       "LDL                 float64\n",
       "CRP                 float64\n",
       "EF                  float64\n",
       "LV                  float64\n",
       "Cr                  float64\n",
       "UA                  float64\n",
       "Glu                 float64\n",
       "WBC                 float64\n",
       "N                   float64\n",
       "HyperP              float64\n",
       "Cigaret             float64\n",
       "OtherHis            float64\n",
       "diabetes            float64\n",
       "Drugcom             float64\n",
       "MACE                float64\n",
       "dtype: object"
      ]
     },
     "execution_count": 36,
     "metadata": {},
     "output_type": "execute_result"
    }
   ],
   "source": [
    "raw_train.dtypes"
   ]
  }
 ],
 "metadata": {
  "kernelspec": {
   "display_name": "Python 3",
   "language": "python",
   "name": "python3"
  },
  "language_info": {
   "codemirror_mode": {
    "name": "ipython",
    "version": 3
   },
   "file_extension": ".py",
   "mimetype": "text/x-python",
   "name": "python",
   "nbconvert_exporter": "python",
   "pygments_lexer": "ipython3",
   "version": "3.6.4"
  }
 },
 "nbformat": 4,
 "nbformat_minor": 2
}
