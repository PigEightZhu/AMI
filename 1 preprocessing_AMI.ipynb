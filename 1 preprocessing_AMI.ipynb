{
 "cells": [
  {
   "cell_type": "code",
   "execution_count": 1,
   "metadata": {},
   "outputs": [],
   "source": [
    "import numpy as np\n",
    "import pandas as pd\n",
    "import matplotlib.pyplot as plt"
   ]
  },
  {
   "cell_type": "code",
   "execution_count": 2,
   "metadata": {},
   "outputs": [],
   "source": [
    "'''\n",
    "input = raw data\n",
    "output = raw_train, raw_test\n",
    "function:The raw data was devided into raw_train and raw_test\n",
    "'''\n",
    "\n",
    "df = pd.read_excel('raw data.xlsx')\n",
    "# removing patients without follow-up result\n",
    "df = df[df['MACE'].notnull()]"
   ]
  },
  {
   "cell_type": "code",
   "execution_count": 3,
   "metadata": {},
   "outputs": [],
   "source": [
    "df = df.reindex(np.random.permutation(df.index))#disrupt the order"
   ]
  },
  {
   "cell_type": "code",
   "execution_count": 4,
   "metadata": {},
   "outputs": [
    {
     "data": {
      "text/plain": [
       "(410, 26)"
      ]
     },
     "execution_count": 4,
     "metadata": {},
     "output_type": "execute_result"
    }
   ],
   "source": [
    "df.shape"
   ]
  },
  {
   "cell_type": "code",
   "execution_count": 5,
   "metadata": {},
   "outputs": [
    {
     "data": {
      "text/html": [
       "<div>\n",
       "<style scoped>\n",
       "    .dataframe tbody tr th:only-of-type {\n",
       "        vertical-align: middle;\n",
       "    }\n",
       "\n",
       "    .dataframe tbody tr th {\n",
       "        vertical-align: top;\n",
       "    }\n",
       "\n",
       "    .dataframe thead th {\n",
       "        text-align: right;\n",
       "    }\n",
       "</style>\n",
       "<table border=\"1\" class=\"dataframe\">\n",
       "  <thead>\n",
       "    <tr style=\"text-align: right;\">\n",
       "      <th></th>\n",
       "      <th>admission number</th>\n",
       "      <th>Age</th>\n",
       "      <th>Sex</th>\n",
       "      <th>InhisTime</th>\n",
       "      <th>Revasc</th>\n",
       "      <th>Culp</th>\n",
       "      <th>MainVASc</th>\n",
       "      <th>Numsten</th>\n",
       "      <th>ECG</th>\n",
       "      <th>Killip</th>\n",
       "      <th>...</th>\n",
       "      <th>UA</th>\n",
       "      <th>Glu</th>\n",
       "      <th>WBC</th>\n",
       "      <th>N</th>\n",
       "      <th>HyperP</th>\n",
       "      <th>Cigaret</th>\n",
       "      <th>OtherHis</th>\n",
       "      <th>diabetes</th>\n",
       "      <th>Drugcom</th>\n",
       "      <th>MACE</th>\n",
       "    </tr>\n",
       "  </thead>\n",
       "  <tbody>\n",
       "    <tr>\n",
       "      <th>286</th>\n",
       "      <td>1066780</td>\n",
       "      <td>67</td>\n",
       "      <td>男</td>\n",
       "      <td>2019-12-28</td>\n",
       "      <td>4h10min</td>\n",
       "      <td>2.0</td>\n",
       "      <td>3.0</td>\n",
       "      <td>4.0</td>\n",
       "      <td>1</td>\n",
       "      <td>I</td>\n",
       "      <td>...</td>\n",
       "      <td>327.0</td>\n",
       "      <td>NaN</td>\n",
       "      <td>4.63</td>\n",
       "      <td>4.08</td>\n",
       "      <td>0</td>\n",
       "      <td>1</td>\n",
       "      <td>0.0</td>\n",
       "      <td>0</td>\n",
       "      <td>1.0</td>\n",
       "      <td>0.0</td>\n",
       "    </tr>\n",
       "    <tr>\n",
       "      <th>204</th>\n",
       "      <td>1000364</td>\n",
       "      <td>83</td>\n",
       "      <td>女</td>\n",
       "      <td>2019-01-20</td>\n",
       "      <td>1d2h40min</td>\n",
       "      <td>3.0</td>\n",
       "      <td>3.0</td>\n",
       "      <td>3.0</td>\n",
       "      <td>0</td>\n",
       "      <td>I</td>\n",
       "      <td>...</td>\n",
       "      <td>763.0</td>\n",
       "      <td>4.44</td>\n",
       "      <td>7.15</td>\n",
       "      <td>4.08</td>\n",
       "      <td>1</td>\n",
       "      <td>0</td>\n",
       "      <td>1.0</td>\n",
       "      <td>0</td>\n",
       "      <td>1.0</td>\n",
       "      <td>0.0</td>\n",
       "    </tr>\n",
       "    <tr>\n",
       "      <th>30</th>\n",
       "      <td>1000659</td>\n",
       "      <td>73</td>\n",
       "      <td>男</td>\n",
       "      <td>2019-01-24</td>\n",
       "      <td>4d30min</td>\n",
       "      <td>6.0</td>\n",
       "      <td>3.0</td>\n",
       "      <td>3.0</td>\n",
       "      <td>1</td>\n",
       "      <td>Ⅱ</td>\n",
       "      <td>...</td>\n",
       "      <td>472.0</td>\n",
       "      <td>6.89</td>\n",
       "      <td>5.41</td>\n",
       "      <td>3.69</td>\n",
       "      <td>1</td>\n",
       "      <td>0</td>\n",
       "      <td>0.0</td>\n",
       "      <td>0</td>\n",
       "      <td>1.0</td>\n",
       "      <td>0.0</td>\n",
       "    </tr>\n",
       "    <tr>\n",
       "      <th>270</th>\n",
       "      <td>1057848</td>\n",
       "      <td>56</td>\n",
       "      <td>男</td>\n",
       "      <td>2019-12-01</td>\n",
       "      <td>45min</td>\n",
       "      <td>3.0</td>\n",
       "      <td>2.0</td>\n",
       "      <td>1.0</td>\n",
       "      <td>0</td>\n",
       "      <td>I</td>\n",
       "      <td>...</td>\n",
       "      <td>314.0</td>\n",
       "      <td>7.73</td>\n",
       "      <td>12.59</td>\n",
       "      <td>8.44</td>\n",
       "      <td>1</td>\n",
       "      <td>0</td>\n",
       "      <td>0.0</td>\n",
       "      <td>1</td>\n",
       "      <td>1.0</td>\n",
       "      <td>0.0</td>\n",
       "    </tr>\n",
       "    <tr>\n",
       "      <th>45</th>\n",
       "      <td>1005649</td>\n",
       "      <td>47</td>\n",
       "      <td>男</td>\n",
       "      <td>2019-03-01</td>\n",
       "      <td>9h29min</td>\n",
       "      <td>2.0</td>\n",
       "      <td>3.0</td>\n",
       "      <td>1.0</td>\n",
       "      <td>1</td>\n",
       "      <td>Ⅰ</td>\n",
       "      <td>...</td>\n",
       "      <td>217.0</td>\n",
       "      <td>NaN</td>\n",
       "      <td>11.13</td>\n",
       "      <td>9.64</td>\n",
       "      <td>0</td>\n",
       "      <td>0</td>\n",
       "      <td>1.0</td>\n",
       "      <td>0</td>\n",
       "      <td>1.0</td>\n",
       "      <td>0.0</td>\n",
       "    </tr>\n",
       "  </tbody>\n",
       "</table>\n",
       "<p>5 rows × 26 columns</p>\n",
       "</div>"
      ],
      "text/plain": [
       "     admission number  Age Sex  InhisTime     Revasc  Culp  MainVASc  Numsten  \\\n",
       "286           1066780   67   男 2019-12-28    4h10min   2.0       3.0      4.0   \n",
       "204           1000364   83   女 2019-01-20  1d2h40min   3.0       3.0      3.0   \n",
       "30            1000659   73   男 2019-01-24    4d30min   6.0       3.0      3.0   \n",
       "270           1057848   56   男 2019-12-01      45min   3.0       2.0      1.0   \n",
       "45            1005649   47   男 2019-03-01    9h29min   2.0       3.0      1.0   \n",
       "\n",
       "     ECG Killip  ...     UA   Glu    WBC     N  HyperP  Cigaret  OtherHis  \\\n",
       "286    1      I  ...  327.0   NaN   4.63  4.08       0        1       0.0   \n",
       "204    0      I  ...  763.0  4.44   7.15  4.08       1        0       1.0   \n",
       "30     1      Ⅱ  ...  472.0  6.89   5.41  3.69       1        0       0.0   \n",
       "270    0      I  ...  314.0  7.73  12.59  8.44       1        0       0.0   \n",
       "45     1      Ⅰ  ...  217.0   NaN  11.13  9.64       0        0       1.0   \n",
       "\n",
       "     diabetes  Drugcom  MACE  \n",
       "286         0      1.0   0.0  \n",
       "204         0      1.0   0.0  \n",
       "30          0      1.0   0.0  \n",
       "270         1      1.0   0.0  \n",
       "45          0      1.0   0.0  \n",
       "\n",
       "[5 rows x 26 columns]"
      ]
     },
     "execution_count": 5,
     "metadata": {},
     "output_type": "execute_result"
    }
   ],
   "source": [
    "df.head()"
   ]
  },
  {
   "cell_type": "code",
   "execution_count": 6,
   "metadata": {},
   "outputs": [
    {
     "data": {
      "text/plain": [
       "0.0    285\n",
       "1.0    125\n",
       "Name: MACE, dtype: int64"
      ]
     },
     "execution_count": 6,
     "metadata": {},
     "output_type": "execute_result"
    }
   ],
   "source": [
    "df['MACE'].value_counts()"
   ]
  },
  {
   "cell_type": "code",
   "execution_count": 7,
   "metadata": {},
   "outputs": [
    {
     "data": {
      "text/plain": [
       "Index(['admission number', 'Age', 'Sex', 'InhisTime', 'Revasc', 'Culp',\n",
       "       'MainVASc', 'Numsten', 'ECG', 'Killip', 'TC', 'LDL', 'CRP', 'EF', 'LV',\n",
       "       'Cr', 'UA', 'Glu', 'WBC', 'N', 'HyperP', 'Cigaret', 'OtherHis',\n",
       "       'diabetes', 'Drugcom', 'MACE'],\n",
       "      dtype='object')"
      ]
     },
     "execution_count": 7,
     "metadata": {},
     "output_type": "execute_result"
    }
   ],
   "source": [
    "df.columns"
   ]
  },
  {
   "cell_type": "code",
   "execution_count": 8,
   "metadata": {},
   "outputs": [],
   "source": [
    "a = df[df['admission number']==1025711].index.tolist()[0]\n",
    "b = df[df['admission number']==1057687].index.tolist()[0]\n",
    "#Two patients (admission number:1025711,1057687) were excluded because they didn't make multiple tests\n",
    "df = df.drop(index=[a,b])"
   ]
  },
  {
   "cell_type": "code",
   "execution_count": 9,
   "metadata": {},
   "outputs": [
    {
     "data": {
      "text/plain": [
       "(408, 26)"
      ]
     },
     "execution_count": 9,
     "metadata": {},
     "output_type": "execute_result"
    }
   ],
   "source": [
    "df.shape"
   ]
  },
  {
   "cell_type": "code",
   "execution_count": 10,
   "metadata": {},
   "outputs": [],
   "source": [
    "raw_train = df[0:244]"
   ]
  },
  {
   "cell_type": "code",
   "execution_count": 11,
   "metadata": {},
   "outputs": [
    {
     "data": {
      "text/plain": [
       "0.0    170\n",
       "1.0     74\n",
       "Name: MACE, dtype: int64"
      ]
     },
     "execution_count": 11,
     "metadata": {},
     "output_type": "execute_result"
    }
   ],
   "source": [
    "raw_train['MACE'].value_counts()"
   ]
  },
  {
   "cell_type": "code",
   "execution_count": 12,
   "metadata": {},
   "outputs": [
    {
     "data": {
      "text/plain": [
       "0.0    113\n",
       "1.0     51\n",
       "Name: MACE, dtype: int64"
      ]
     },
     "execution_count": 12,
     "metadata": {},
     "output_type": "execute_result"
    }
   ],
   "source": [
    "raw_test = df[244:408]\n",
    "raw_test['MACE'].value_counts()"
   ]
  },
  {
   "cell_type": "code",
   "execution_count": 13,
   "metadata": {},
   "outputs": [],
   "source": [
    "#output:raw_train, raw_test\n",
    "raw_train.to_excel(r'C:\\Users\\lenovo\\Revision\\Preprocessing\\raw_train.xlsx')\n",
    "raw_test.to_excel(r'C:\\Users\\lenovo\\Revision\\Preprocessing\\raw_test.xlsx')"
   ]
  }
 ],
 "metadata": {
  "kernelspec": {
   "display_name": "Python 3",
   "language": "python",
   "name": "python3"
  },
  "language_info": {
   "codemirror_mode": {
    "name": "ipython",
    "version": 3
   },
   "file_extension": ".py",
   "mimetype": "text/x-python",
   "name": "python",
   "nbconvert_exporter": "python",
   "pygments_lexer": "ipython3",
   "version": "3.6.4"
  }
 },
 "nbformat": 4,
 "nbformat_minor": 2
}
