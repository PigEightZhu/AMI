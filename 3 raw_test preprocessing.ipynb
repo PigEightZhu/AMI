{
 "cells": [
  {
   "cell_type": "code",
   "execution_count": 1,
   "metadata": {},
   "outputs": [],
   "source": [
    "#input:raw_test.xlsx\n",
    "#output:processed_test.xlsx\n",
    "import numpy as np\n",
    "import pandas as pd\n",
    "import matplotlib.pyplot as plt"
   ]
  },
  {
   "cell_type": "code",
   "execution_count": 2,
   "metadata": {},
   "outputs": [],
   "source": [
    "raw_test = pd.read_excel('raw_test.xlsx',index_col=0)"
   ]
  },
  {
   "cell_type": "code",
   "execution_count": 3,
   "metadata": {},
   "outputs": [
    {
     "data": {
      "text/html": [
       "<div>\n",
       "<style scoped>\n",
       "    .dataframe tbody tr th:only-of-type {\n",
       "        vertical-align: middle;\n",
       "    }\n",
       "\n",
       "    .dataframe tbody tr th {\n",
       "        vertical-align: top;\n",
       "    }\n",
       "\n",
       "    .dataframe thead th {\n",
       "        text-align: right;\n",
       "    }\n",
       "</style>\n",
       "<table border=\"1\" class=\"dataframe\">\n",
       "  <thead>\n",
       "    <tr style=\"text-align: right;\">\n",
       "      <th></th>\n",
       "      <th>admission number</th>\n",
       "      <th>Age</th>\n",
       "      <th>Sex</th>\n",
       "      <th>InhisTime</th>\n",
       "      <th>Revasc</th>\n",
       "      <th>Culp</th>\n",
       "      <th>MainVASc</th>\n",
       "      <th>Numsten</th>\n",
       "      <th>ECG</th>\n",
       "      <th>Killip</th>\n",
       "      <th>...</th>\n",
       "      <th>UA</th>\n",
       "      <th>Glu</th>\n",
       "      <th>WBC</th>\n",
       "      <th>N</th>\n",
       "      <th>HyperP</th>\n",
       "      <th>Cigaret</th>\n",
       "      <th>OtherHis</th>\n",
       "      <th>diabetes</th>\n",
       "      <th>Drugcom</th>\n",
       "      <th>MACE</th>\n",
       "    </tr>\n",
       "  </thead>\n",
       "  <tbody>\n",
       "    <tr>\n",
       "      <th>358</th>\n",
       "      <td>1047495</td>\n",
       "      <td>45</td>\n",
       "      <td>男</td>\n",
       "      <td>2019-09-25</td>\n",
       "      <td>1h48min</td>\n",
       "      <td>4.0</td>\n",
       "      <td>3.0</td>\n",
       "      <td>1.0</td>\n",
       "      <td>1</td>\n",
       "      <td>I</td>\n",
       "      <td>...</td>\n",
       "      <td>117.0</td>\n",
       "      <td>5.30</td>\n",
       "      <td>6.52</td>\n",
       "      <td>4.54</td>\n",
       "      <td>0</td>\n",
       "      <td>1</td>\n",
       "      <td>1</td>\n",
       "      <td>1</td>\n",
       "      <td>1.0</td>\n",
       "      <td>0</td>\n",
       "    </tr>\n",
       "    <tr>\n",
       "      <th>19</th>\n",
       "      <td>899915</td>\n",
       "      <td>67</td>\n",
       "      <td>男</td>\n",
       "      <td>2019-01-12</td>\n",
       "      <td>18h30min</td>\n",
       "      <td>2.0</td>\n",
       "      <td>2.0</td>\n",
       "      <td>3.0</td>\n",
       "      <td>1</td>\n",
       "      <td>III</td>\n",
       "      <td>...</td>\n",
       "      <td>718.0</td>\n",
       "      <td>6.93</td>\n",
       "      <td>11.97</td>\n",
       "      <td>10.79</td>\n",
       "      <td>1</td>\n",
       "      <td>1</td>\n",
       "      <td>1</td>\n",
       "      <td>0</td>\n",
       "      <td>1.0</td>\n",
       "      <td>0</td>\n",
       "    </tr>\n",
       "    <tr>\n",
       "      <th>294</th>\n",
       "      <td>1065946</td>\n",
       "      <td>50</td>\n",
       "      <td>男</td>\n",
       "      <td>2019-12-22</td>\n",
       "      <td>9h</td>\n",
       "      <td>3.0</td>\n",
       "      <td>4.0</td>\n",
       "      <td>NaN</td>\n",
       "      <td>0</td>\n",
       "      <td>I</td>\n",
       "      <td>...</td>\n",
       "      <td>NaN</td>\n",
       "      <td>5.69</td>\n",
       "      <td>NaN</td>\n",
       "      <td>NaN</td>\n",
       "      <td>0</td>\n",
       "      <td>1</td>\n",
       "      <td>0</td>\n",
       "      <td>0</td>\n",
       "      <td>1.0</td>\n",
       "      <td>0</td>\n",
       "    </tr>\n",
       "    <tr>\n",
       "      <th>194</th>\n",
       "      <td>869417</td>\n",
       "      <td>72</td>\n",
       "      <td>男</td>\n",
       "      <td>2018-11-25</td>\n",
       "      <td>7d48min</td>\n",
       "      <td>3.0</td>\n",
       "      <td>3.0</td>\n",
       "      <td>1.0</td>\n",
       "      <td>0</td>\n",
       "      <td>II</td>\n",
       "      <td>...</td>\n",
       "      <td>495.0</td>\n",
       "      <td>8.71</td>\n",
       "      <td>9.60</td>\n",
       "      <td>7.79</td>\n",
       "      <td>1</td>\n",
       "      <td>0</td>\n",
       "      <td>1</td>\n",
       "      <td>0</td>\n",
       "      <td>1.0</td>\n",
       "      <td>0</td>\n",
       "    </tr>\n",
       "    <tr>\n",
       "      <th>117</th>\n",
       "      <td>896240</td>\n",
       "      <td>59</td>\n",
       "      <td>男</td>\n",
       "      <td>2019-01-07</td>\n",
       "      <td>5h30min</td>\n",
       "      <td>NaN</td>\n",
       "      <td>NaN</td>\n",
       "      <td>2.0</td>\n",
       "      <td>0</td>\n",
       "      <td>Ⅰ</td>\n",
       "      <td>...</td>\n",
       "      <td>370.0</td>\n",
       "      <td>9.24</td>\n",
       "      <td>10.02</td>\n",
       "      <td>5.43</td>\n",
       "      <td>0</td>\n",
       "      <td>0</td>\n",
       "      <td>0</td>\n",
       "      <td>0</td>\n",
       "      <td>1.0</td>\n",
       "      <td>0</td>\n",
       "    </tr>\n",
       "  </tbody>\n",
       "</table>\n",
       "<p>5 rows × 26 columns</p>\n",
       "</div>"
      ],
      "text/plain": [
       "     admission number  Age Sex  InhisTime    Revasc  Culp  MainVASc  Numsten  \\\n",
       "358           1047495   45   男 2019-09-25   1h48min   4.0       3.0      1.0   \n",
       "19             899915   67   男 2019-01-12  18h30min   2.0       2.0      3.0   \n",
       "294           1065946   50   男 2019-12-22        9h   3.0       4.0      NaN   \n",
       "194            869417   72   男 2018-11-25   7d48min   3.0       3.0      1.0   \n",
       "117            896240   59   男 2019-01-07   5h30min   NaN       NaN      2.0   \n",
       "\n",
       "     ECG Killip  ...     UA   Glu    WBC      N  HyperP  Cigaret  OtherHis  \\\n",
       "358    1      I  ...  117.0  5.30   6.52   4.54       0        1         1   \n",
       "19     1    III  ...  718.0  6.93  11.97  10.79       1        1         1   \n",
       "294    0      I  ...    NaN  5.69    NaN    NaN       0        1         0   \n",
       "194    0     II  ...  495.0  8.71   9.60   7.79       1        0         1   \n",
       "117    0      Ⅰ  ...  370.0  9.24  10.02   5.43       0        0         0   \n",
       "\n",
       "     diabetes  Drugcom  MACE  \n",
       "358         1      1.0     0  \n",
       "19          0      1.0     0  \n",
       "294         0      1.0     0  \n",
       "194         0      1.0     0  \n",
       "117         0      1.0     0  \n",
       "\n",
       "[5 rows x 26 columns]"
      ]
     },
     "execution_count": 3,
     "metadata": {},
     "output_type": "execute_result"
    }
   ],
   "source": [
    "raw_test.head()"
   ]
  },
  {
   "cell_type": "code",
   "execution_count": 4,
   "metadata": {},
   "outputs": [],
   "source": [
    "#Encode gender(man equal to 0,women equal to 0)\n",
    "raw_test.loc[raw_test['Sex'] == '男', 'Sex'] = 0\n",
    "raw_test.loc[raw_test['Sex'] == '女', 'Sex'] = 1"
   ]
  },
  {
   "cell_type": "code",
   "execution_count": 5,
   "metadata": {},
   "outputs": [
    {
     "name": "stderr",
     "output_type": "stream",
     "text": [
      "C:\\Users\\lenovo\\AppData\\Roaming\\Python\\Python36\\site-packages\\ipykernel_launcher.py:9: SettingWithCopyWarning: \n",
      "A value is trying to be set on a copy of a slice from a DataFrame\n",
      "\n",
      "See the caveats in the documentation: https://pandas.pydata.org/pandas-docs/stable/user_guide/indexing.html#returning-a-view-versus-a-copy\n",
      "  if __name__ == '__main__':\n"
     ]
    }
   ],
   "source": [
    "#Calculate the number of days after discharge(follow-up time = follow-up data - hospital date)\n",
    "import datetime\n",
    "import time\n",
    "follow_date = datetime.datetime(2020,11,1,0,0,0)\n",
    "ts = pd.DatetimeIndex([follow_date])\n",
    "for i in raw_test.index:\n",
    "    a = ts - raw_test['InhisTime'][i]\n",
    "    b = a.days\n",
    "    raw_test['InhisTime'][i] = b[0]        \n",
    "raw_test.rename(columns={'InhisTime':'Follow_up time'},inplace=True)"
   ]
  },
  {
   "cell_type": "code",
   "execution_count": 6,
   "metadata": {},
   "outputs": [
    {
     "data": {
      "text/html": [
       "<div>\n",
       "<style scoped>\n",
       "    .dataframe tbody tr th:only-of-type {\n",
       "        vertical-align: middle;\n",
       "    }\n",
       "\n",
       "    .dataframe tbody tr th {\n",
       "        vertical-align: top;\n",
       "    }\n",
       "\n",
       "    .dataframe thead th {\n",
       "        text-align: right;\n",
       "    }\n",
       "</style>\n",
       "<table border=\"1\" class=\"dataframe\">\n",
       "  <thead>\n",
       "    <tr style=\"text-align: right;\">\n",
       "      <th></th>\n",
       "      <th>admission number</th>\n",
       "      <th>Age</th>\n",
       "      <th>Sex</th>\n",
       "      <th>Follow_up time</th>\n",
       "      <th>Revasc</th>\n",
       "      <th>Culp</th>\n",
       "      <th>MainVASc</th>\n",
       "      <th>Numsten</th>\n",
       "      <th>ECG</th>\n",
       "      <th>Killip</th>\n",
       "      <th>...</th>\n",
       "      <th>UA</th>\n",
       "      <th>Glu</th>\n",
       "      <th>WBC</th>\n",
       "      <th>N</th>\n",
       "      <th>HyperP</th>\n",
       "      <th>Cigaret</th>\n",
       "      <th>OtherHis</th>\n",
       "      <th>diabetes</th>\n",
       "      <th>Drugcom</th>\n",
       "      <th>MACE</th>\n",
       "    </tr>\n",
       "  </thead>\n",
       "  <tbody>\n",
       "    <tr>\n",
       "      <th>358</th>\n",
       "      <td>1047495</td>\n",
       "      <td>45</td>\n",
       "      <td>0</td>\n",
       "      <td>403</td>\n",
       "      <td>1h48min</td>\n",
       "      <td>4.0</td>\n",
       "      <td>3.0</td>\n",
       "      <td>1.0</td>\n",
       "      <td>1</td>\n",
       "      <td>I</td>\n",
       "      <td>...</td>\n",
       "      <td>117.0</td>\n",
       "      <td>5.30</td>\n",
       "      <td>6.52</td>\n",
       "      <td>4.54</td>\n",
       "      <td>0</td>\n",
       "      <td>1</td>\n",
       "      <td>1</td>\n",
       "      <td>1</td>\n",
       "      <td>1.0</td>\n",
       "      <td>0</td>\n",
       "    </tr>\n",
       "    <tr>\n",
       "      <th>19</th>\n",
       "      <td>899915</td>\n",
       "      <td>67</td>\n",
       "      <td>0</td>\n",
       "      <td>659</td>\n",
       "      <td>18h30min</td>\n",
       "      <td>2.0</td>\n",
       "      <td>2.0</td>\n",
       "      <td>3.0</td>\n",
       "      <td>1</td>\n",
       "      <td>III</td>\n",
       "      <td>...</td>\n",
       "      <td>718.0</td>\n",
       "      <td>6.93</td>\n",
       "      <td>11.97</td>\n",
       "      <td>10.79</td>\n",
       "      <td>1</td>\n",
       "      <td>1</td>\n",
       "      <td>1</td>\n",
       "      <td>0</td>\n",
       "      <td>1.0</td>\n",
       "      <td>0</td>\n",
       "    </tr>\n",
       "    <tr>\n",
       "      <th>294</th>\n",
       "      <td>1065946</td>\n",
       "      <td>50</td>\n",
       "      <td>0</td>\n",
       "      <td>315</td>\n",
       "      <td>9h</td>\n",
       "      <td>3.0</td>\n",
       "      <td>4.0</td>\n",
       "      <td>NaN</td>\n",
       "      <td>0</td>\n",
       "      <td>I</td>\n",
       "      <td>...</td>\n",
       "      <td>NaN</td>\n",
       "      <td>5.69</td>\n",
       "      <td>NaN</td>\n",
       "      <td>NaN</td>\n",
       "      <td>0</td>\n",
       "      <td>1</td>\n",
       "      <td>0</td>\n",
       "      <td>0</td>\n",
       "      <td>1.0</td>\n",
       "      <td>0</td>\n",
       "    </tr>\n",
       "    <tr>\n",
       "      <th>194</th>\n",
       "      <td>869417</td>\n",
       "      <td>72</td>\n",
       "      <td>0</td>\n",
       "      <td>707</td>\n",
       "      <td>7d48min</td>\n",
       "      <td>3.0</td>\n",
       "      <td>3.0</td>\n",
       "      <td>1.0</td>\n",
       "      <td>0</td>\n",
       "      <td>II</td>\n",
       "      <td>...</td>\n",
       "      <td>495.0</td>\n",
       "      <td>8.71</td>\n",
       "      <td>9.60</td>\n",
       "      <td>7.79</td>\n",
       "      <td>1</td>\n",
       "      <td>0</td>\n",
       "      <td>1</td>\n",
       "      <td>0</td>\n",
       "      <td>1.0</td>\n",
       "      <td>0</td>\n",
       "    </tr>\n",
       "    <tr>\n",
       "      <th>117</th>\n",
       "      <td>896240</td>\n",
       "      <td>59</td>\n",
       "      <td>0</td>\n",
       "      <td>664</td>\n",
       "      <td>5h30min</td>\n",
       "      <td>NaN</td>\n",
       "      <td>NaN</td>\n",
       "      <td>2.0</td>\n",
       "      <td>0</td>\n",
       "      <td>Ⅰ</td>\n",
       "      <td>...</td>\n",
       "      <td>370.0</td>\n",
       "      <td>9.24</td>\n",
       "      <td>10.02</td>\n",
       "      <td>5.43</td>\n",
       "      <td>0</td>\n",
       "      <td>0</td>\n",
       "      <td>0</td>\n",
       "      <td>0</td>\n",
       "      <td>1.0</td>\n",
       "      <td>0</td>\n",
       "    </tr>\n",
       "  </tbody>\n",
       "</table>\n",
       "<p>5 rows × 26 columns</p>\n",
       "</div>"
      ],
      "text/plain": [
       "     admission number  Age Sex Follow_up time    Revasc  Culp  MainVASc  \\\n",
       "358           1047495   45   0            403   1h48min   4.0       3.0   \n",
       "19             899915   67   0            659  18h30min   2.0       2.0   \n",
       "294           1065946   50   0            315        9h   3.0       4.0   \n",
       "194            869417   72   0            707   7d48min   3.0       3.0   \n",
       "117            896240   59   0            664   5h30min   NaN       NaN   \n",
       "\n",
       "     Numsten  ECG Killip  ...     UA   Glu    WBC      N  HyperP  Cigaret  \\\n",
       "358      1.0    1      I  ...  117.0  5.30   6.52   4.54       0        1   \n",
       "19       3.0    1    III  ...  718.0  6.93  11.97  10.79       1        1   \n",
       "294      NaN    0      I  ...    NaN  5.69    NaN    NaN       0        1   \n",
       "194      1.0    0     II  ...  495.0  8.71   9.60   7.79       1        0   \n",
       "117      2.0    0      Ⅰ  ...  370.0  9.24  10.02   5.43       0        0   \n",
       "\n",
       "     OtherHis  diabetes  Drugcom  MACE  \n",
       "358         1         1      1.0     0  \n",
       "19          1         0      1.0     0  \n",
       "294         0         0      1.0     0  \n",
       "194         1         0      1.0     0  \n",
       "117         0         0      1.0     0  \n",
       "\n",
       "[5 rows x 26 columns]"
      ]
     },
     "execution_count": 6,
     "metadata": {},
     "output_type": "execute_result"
    }
   ],
   "source": [
    "raw_test.head()"
   ]
  },
  {
   "cell_type": "code",
   "execution_count": 7,
   "metadata": {},
   "outputs": [
    {
     "data": {
      "text/plain": [
       "admission number     0\n",
       "Age                  0\n",
       "Sex                  0\n",
       "Follow_up time       0\n",
       "Revasc               0\n",
       "Culp                 2\n",
       "MainVASc             6\n",
       "Numsten              1\n",
       "ECG                  0\n",
       "Killip               0\n",
       "TC                   8\n",
       "LDL                  8\n",
       "CRP                 10\n",
       "EF                   7\n",
       "LV                   7\n",
       "Cr                  11\n",
       "UA                  11\n",
       "Glu                  7\n",
       "WBC                 16\n",
       "N                   17\n",
       "HyperP               0\n",
       "Cigaret              0\n",
       "OtherHis             0\n",
       "diabetes             0\n",
       "Drugcom              2\n",
       "MACE                 0\n",
       "dtype: int64"
      ]
     },
     "execution_count": 7,
     "metadata": {},
     "output_type": "execute_result"
    }
   ],
   "source": [
    "raw_test.isnull().sum()"
   ]
  },
  {
   "cell_type": "code",
   "execution_count": 8,
   "metadata": {},
   "outputs": [],
   "source": [
    "'''\n",
    "input:a discrete variable\n",
    "output:one of all discrete variable categories\n",
    "function:generating one of all discrete variable categories according to the proportion of this categort\n",
    "For example,the number of man(labelled as 0) is 144,the number of woman(labelled as 0) is 100,\n",
    "then this function has a probability of 144/(144+100) for producing the value 0\n",
    "'''\n",
    "def randnum(data):\n",
    "    a = np.random.random()\n",
    "    count_values = (data.value_counts()).values\n",
    "    count_index = (data.value_counts()).index\n",
    "    notnull_datalen = data.notnull().sum()\n",
    "    b = []\n",
    "    sum_value = 0\n",
    "    return_value = []\n",
    "    for i in range(len(data.value_counts())):\n",
    "        sum_value += count_values[i]\n",
    "        b.append(sum_value/notnull_datalen)\n",
    "        if a < b[i]:\n",
    "            return_value = count_index[i]\n",
    "            break\n",
    "    return return_value"
   ]
  },
  {
   "cell_type": "code",
   "execution_count": 9,
   "metadata": {},
   "outputs": [
    {
     "name": "stderr",
     "output_type": "stream",
     "text": [
      "C:\\Users\\lenovo\\AppData\\Roaming\\Python\\Python36\\site-packages\\ipykernel_launcher.py:6: SettingWithCopyWarning: \n",
      "A value is trying to be set on a copy of a slice from a DataFrame\n",
      "\n",
      "See the caveats in the documentation: https://pandas.pydata.org/pandas-docs/stable/user_guide/indexing.html#returning-a-view-versus-a-copy\n",
      "  \n"
     ]
    }
   ],
   "source": [
    "#Drugcom imputation\n",
    "Drugcom = raw_test['Drugcom']\n",
    "Drugcom_is_null = pd.isnull(Drugcom)\n",
    "Drugcom_null_true = Drugcom[Drugcom_is_null]\n",
    "for index_null in Drugcom_null_true.index:\n",
    "    raw_test['Drugcom'][index_null] = randnum(raw_test['Drugcom'])"
   ]
  },
  {
   "cell_type": "code",
   "execution_count": 10,
   "metadata": {},
   "outputs": [
    {
     "name": "stderr",
     "output_type": "stream",
     "text": [
      "C:\\Users\\lenovo\\AppData\\Roaming\\Python\\Python36\\site-packages\\ipykernel_launcher.py:6: SettingWithCopyWarning: \n",
      "A value is trying to be set on a copy of a slice from a DataFrame\n",
      "\n",
      "See the caveats in the documentation: https://pandas.pydata.org/pandas-docs/stable/user_guide/indexing.html#returning-a-view-versus-a-copy\n",
      "  \n"
     ]
    }
   ],
   "source": [
    "#Culp imputation\n",
    "Culp = raw_test['Culp']\n",
    "Culp_is_null = pd.isnull(Culp)\n",
    "Culp_null_true = Culp[Culp_is_null]\n",
    "for index_null in Culp_null_true.index:\n",
    "    raw_test['Culp'][index_null] = randnum(raw_test['Culp'])"
   ]
  },
  {
   "cell_type": "code",
   "execution_count": 11,
   "metadata": {},
   "outputs": [
    {
     "name": "stderr",
     "output_type": "stream",
     "text": [
      "C:\\Users\\lenovo\\AppData\\Roaming\\Python\\Python36\\site-packages\\ipykernel_launcher.py:6: SettingWithCopyWarning: \n",
      "A value is trying to be set on a copy of a slice from a DataFrame\n",
      "\n",
      "See the caveats in the documentation: https://pandas.pydata.org/pandas-docs/stable/user_guide/indexing.html#returning-a-view-versus-a-copy\n",
      "  \n"
     ]
    }
   ],
   "source": [
    "#MainVASc imputation\n",
    "MainVASc = raw_test['MainVASc']\n",
    "MainVASc_is_null = pd.isnull(MainVASc)\n",
    "MainVASc_null_true = MainVASc[MainVASc_is_null]\n",
    "for index_null in MainVASc_null_true.index:\n",
    "    raw_test['MainVASc'][index_null] = randnum(raw_test['MainVASc'])"
   ]
  },
  {
   "cell_type": "code",
   "execution_count": 12,
   "metadata": {},
   "outputs": [
    {
     "name": "stderr",
     "output_type": "stream",
     "text": [
      "C:\\Users\\lenovo\\AppData\\Roaming\\Python\\Python36\\site-packages\\ipykernel_launcher.py:5: SettingWithCopyWarning: \n",
      "A value is trying to be set on a copy of a slice from a DataFrame\n",
      "\n",
      "See the caveats in the documentation: https://pandas.pydata.org/pandas-docs/stable/user_guide/indexing.html#returning-a-view-versus-a-copy\n",
      "  \"\"\"\n"
     ]
    }
   ],
   "source": [
    "#Numsten imputation\n",
    "Numsten = raw_test['Numsten']\n",
    "Numsten_is_null = pd.isnull(Numsten)\n",
    "Numsten_null_true = Numsten[Numsten_is_null]\n",
    "raw_test['Numsten'][Numsten_null_true.index] = randnum(raw_test['Numsten'])"
   ]
  },
  {
   "cell_type": "code",
   "execution_count": 13,
   "metadata": {},
   "outputs": [
    {
     "data": {
      "text/plain": [
       "admission number     0\n",
       "Age                  0\n",
       "Sex                  0\n",
       "Follow_up time       0\n",
       "Revasc               0\n",
       "Culp                 0\n",
       "MainVASc             0\n",
       "Numsten              0\n",
       "ECG                  0\n",
       "Killip               0\n",
       "TC                   8\n",
       "LDL                  8\n",
       "CRP                 10\n",
       "EF                   7\n",
       "LV                   7\n",
       "Cr                  11\n",
       "UA                  11\n",
       "Glu                  7\n",
       "WBC                 16\n",
       "N                   17\n",
       "HyperP               0\n",
       "Cigaret              0\n",
       "OtherHis             0\n",
       "diabetes             0\n",
       "Drugcom              0\n",
       "MACE                 0\n",
       "dtype: int64"
      ]
     },
     "execution_count": 13,
     "metadata": {},
     "output_type": "execute_result"
    }
   ],
   "source": [
    "#The imputation of discrete variables is complete\n",
    "raw_test.isnull().sum()"
   ]
  },
  {
   "cell_type": "code",
   "execution_count": 14,
   "metadata": {},
   "outputs": [],
   "source": [
    "'''\n",
    "input:a continuous variable\n",
    "output:None\n",
    "function:imputing a continuous variable with the values generated by Gaussian distribution.\n",
    "if the generated values are not in the range of the continuous variable,the variable will be imputed with the mean of this variable\n",
    "'''\n",
    "def fill_null(data):\n",
    "    data_is_null = pd.isnull(data)\n",
    "    data_null_true = data[data_is_null]\n",
    "    for index_null in data_null_true.index:\n",
    "        gauss = np.random.normal(np.mean(data),np.var(data),1)\n",
    "        if gauss > raw_test[data.name].max():\n",
    "            raw_test[data.name][index_null] = np.mean(data)\n",
    "        elif gauss < raw_test[data.name].min():\n",
    "            raw_test[data.name][index_null] = np.mean(data)\n",
    "        else:\n",
    "            raw_test[data.name][index_null] = gauss"
   ]
  },
  {
   "cell_type": "code",
   "execution_count": 15,
   "metadata": {},
   "outputs": [],
   "source": [
    "postive_train = raw_test[raw_test['MACE'] == 1][:]\n",
    "negative_train = raw_test[raw_test['MACE'] == 0][:]"
   ]
  },
  {
   "cell_type": "code",
   "execution_count": 16,
   "metadata": {},
   "outputs": [
    {
     "name": "stderr",
     "output_type": "stream",
     "text": [
      "C:\\Users\\lenovo\\AppData\\Roaming\\Python\\Python36\\site-packages\\ipykernel_launcher.py:17: SettingWithCopyWarning: \n",
      "A value is trying to be set on a copy of a slice from a DataFrame\n",
      "\n",
      "See the caveats in the documentation: https://pandas.pydata.org/pandas-docs/stable/user_guide/indexing.html#returning-a-view-versus-a-copy\n",
      "C:\\Users\\lenovo\\AppData\\Roaming\\Python\\Python36\\site-packages\\ipykernel_launcher.py:15: SettingWithCopyWarning: \n",
      "A value is trying to be set on a copy of a slice from a DataFrame\n",
      "\n",
      "See the caveats in the documentation: https://pandas.pydata.org/pandas-docs/stable/user_guide/indexing.html#returning-a-view-versus-a-copy\n",
      "  from ipykernel import kernelapp as app\n"
     ]
    }
   ],
   "source": [
    "#imputation of TC\n",
    "postive_TC = postive_train['TC']\n",
    "negative_TC = negative_train['TC']\n",
    "fill_null(postive_TC)\n",
    "fill_null(negative_TC)"
   ]
  },
  {
   "cell_type": "code",
   "execution_count": 17,
   "metadata": {},
   "outputs": [
    {
     "name": "stderr",
     "output_type": "stream",
     "text": [
      "C:\\Users\\lenovo\\AppData\\Roaming\\Python\\Python36\\site-packages\\ipykernel_launcher.py:17: SettingWithCopyWarning: \n",
      "A value is trying to be set on a copy of a slice from a DataFrame\n",
      "\n",
      "See the caveats in the documentation: https://pandas.pydata.org/pandas-docs/stable/user_guide/indexing.html#returning-a-view-versus-a-copy\n"
     ]
    }
   ],
   "source": [
    "#imputation of LDL\n",
    "postive_LDL = postive_train['LDL']\n",
    "negative_LDL = negative_train['LDL']\n",
    "fill_null(postive_LDL)\n",
    "fill_null(negative_LDL)"
   ]
  },
  {
   "cell_type": "code",
   "execution_count": 18,
   "metadata": {},
   "outputs": [
    {
     "name": "stderr",
     "output_type": "stream",
     "text": [
      "C:\\Users\\lenovo\\AppData\\Roaming\\Python\\Python36\\site-packages\\ipykernel_launcher.py:13: SettingWithCopyWarning: \n",
      "A value is trying to be set on a copy of a slice from a DataFrame\n",
      "\n",
      "See the caveats in the documentation: https://pandas.pydata.org/pandas-docs/stable/user_guide/indexing.html#returning-a-view-versus-a-copy\n",
      "  del sys.path[0]\n",
      "C:\\Users\\lenovo\\AppData\\Roaming\\Python\\Python36\\site-packages\\ipykernel_launcher.py:17: SettingWithCopyWarning: \n",
      "A value is trying to be set on a copy of a slice from a DataFrame\n",
      "\n",
      "See the caveats in the documentation: https://pandas.pydata.org/pandas-docs/stable/user_guide/indexing.html#returning-a-view-versus-a-copy\n",
      "C:\\Users\\lenovo\\AppData\\Roaming\\Python\\Python36\\site-packages\\ipykernel_launcher.py:15: SettingWithCopyWarning: \n",
      "A value is trying to be set on a copy of a slice from a DataFrame\n",
      "\n",
      "See the caveats in the documentation: https://pandas.pydata.org/pandas-docs/stable/user_guide/indexing.html#returning-a-view-versus-a-copy\n",
      "  from ipykernel import kernelapp as app\n"
     ]
    }
   ],
   "source": [
    "#imputation of CRP\n",
    "postive_CRP = postive_train['CRP']\n",
    "negative_CRP = negative_train['CRP']\n",
    "fill_null(postive_CRP)\n",
    "fill_null(negative_CRP)"
   ]
  },
  {
   "cell_type": "code",
   "execution_count": 19,
   "metadata": {},
   "outputs": [
    {
     "name": "stderr",
     "output_type": "stream",
     "text": [
      "C:\\Users\\lenovo\\AppData\\Roaming\\Python\\Python36\\site-packages\\ipykernel_launcher.py:17: SettingWithCopyWarning: \n",
      "A value is trying to be set on a copy of a slice from a DataFrame\n",
      "\n",
      "See the caveats in the documentation: https://pandas.pydata.org/pandas-docs/stable/user_guide/indexing.html#returning-a-view-versus-a-copy\n"
     ]
    }
   ],
   "source": [
    "#imputation of EF\n",
    "postive_EF = postive_train['EF']\n",
    "negative_EF = negative_train['EF']\n",
    "fill_null(postive_EF)\n",
    "fill_null(negative_EF)"
   ]
  },
  {
   "cell_type": "code",
   "execution_count": 20,
   "metadata": {},
   "outputs": [
    {
     "name": "stderr",
     "output_type": "stream",
     "text": [
      "C:\\Users\\lenovo\\AppData\\Roaming\\Python\\Python36\\site-packages\\ipykernel_launcher.py:15: SettingWithCopyWarning: \n",
      "A value is trying to be set on a copy of a slice from a DataFrame\n",
      "\n",
      "See the caveats in the documentation: https://pandas.pydata.org/pandas-docs/stable/user_guide/indexing.html#returning-a-view-versus-a-copy\n",
      "  from ipykernel import kernelapp as app\n",
      "C:\\Users\\lenovo\\AppData\\Roaming\\Python\\Python36\\site-packages\\ipykernel_launcher.py:17: SettingWithCopyWarning: \n",
      "A value is trying to be set on a copy of a slice from a DataFrame\n",
      "\n",
      "See the caveats in the documentation: https://pandas.pydata.org/pandas-docs/stable/user_guide/indexing.html#returning-a-view-versus-a-copy\n",
      "C:\\Users\\lenovo\\AppData\\Roaming\\Python\\Python36\\site-packages\\ipykernel_launcher.py:13: SettingWithCopyWarning: \n",
      "A value is trying to be set on a copy of a slice from a DataFrame\n",
      "\n",
      "See the caveats in the documentation: https://pandas.pydata.org/pandas-docs/stable/user_guide/indexing.html#returning-a-view-versus-a-copy\n",
      "  del sys.path[0]\n"
     ]
    }
   ],
   "source": [
    "#imputation of LV\n",
    "postive_LV = postive_train['LV']\n",
    "negative_LV = negative_train['LV']\n",
    "fill_null(postive_LV)\n",
    "fill_null(negative_LV)"
   ]
  },
  {
   "cell_type": "code",
   "execution_count": 21,
   "metadata": {},
   "outputs": [
    {
     "name": "stderr",
     "output_type": "stream",
     "text": [
      "C:\\Users\\lenovo\\AppData\\Roaming\\Python\\Python36\\site-packages\\ipykernel_launcher.py:15: SettingWithCopyWarning: \n",
      "A value is trying to be set on a copy of a slice from a DataFrame\n",
      "\n",
      "See the caveats in the documentation: https://pandas.pydata.org/pandas-docs/stable/user_guide/indexing.html#returning-a-view-versus-a-copy\n",
      "  from ipykernel import kernelapp as app\n",
      "C:\\Users\\lenovo\\AppData\\Roaming\\Python\\Python36\\site-packages\\ipykernel_launcher.py:13: SettingWithCopyWarning: \n",
      "A value is trying to be set on a copy of a slice from a DataFrame\n",
      "\n",
      "See the caveats in the documentation: https://pandas.pydata.org/pandas-docs/stable/user_guide/indexing.html#returning-a-view-versus-a-copy\n",
      "  del sys.path[0]\n",
      "C:\\Users\\lenovo\\AppData\\Roaming\\Python\\Python36\\site-packages\\ipykernel_launcher.py:17: SettingWithCopyWarning: \n",
      "A value is trying to be set on a copy of a slice from a DataFrame\n",
      "\n",
      "See the caveats in the documentation: https://pandas.pydata.org/pandas-docs/stable/user_guide/indexing.html#returning-a-view-versus-a-copy\n"
     ]
    }
   ],
   "source": [
    "#imputation of Cr\n",
    "postive_Cr = postive_train['Cr']\n",
    "negative_Cr = negative_train['Cr']\n",
    "fill_null(postive_Cr)\n",
    "fill_null(negative_Cr)"
   ]
  },
  {
   "cell_type": "code",
   "execution_count": 22,
   "metadata": {
    "scrolled": true
   },
   "outputs": [
    {
     "name": "stderr",
     "output_type": "stream",
     "text": [
      "C:\\Users\\lenovo\\AppData\\Roaming\\Python\\Python36\\site-packages\\ipykernel_launcher.py:13: SettingWithCopyWarning: \n",
      "A value is trying to be set on a copy of a slice from a DataFrame\n",
      "\n",
      "See the caveats in the documentation: https://pandas.pydata.org/pandas-docs/stable/user_guide/indexing.html#returning-a-view-versus-a-copy\n",
      "  del sys.path[0]\n",
      "C:\\Users\\lenovo\\AppData\\Roaming\\Python\\Python36\\site-packages\\ipykernel_launcher.py:15: SettingWithCopyWarning: \n",
      "A value is trying to be set on a copy of a slice from a DataFrame\n",
      "\n",
      "See the caveats in the documentation: https://pandas.pydata.org/pandas-docs/stable/user_guide/indexing.html#returning-a-view-versus-a-copy\n",
      "  from ipykernel import kernelapp as app\n"
     ]
    }
   ],
   "source": [
    "#imputation of UA\n",
    "postive_UA = postive_train['UA']\n",
    "negative_UA = negative_train['UA']\n",
    "fill_null(postive_UA)\n",
    "fill_null(negative_UA)"
   ]
  },
  {
   "cell_type": "code",
   "execution_count": 23,
   "metadata": {},
   "outputs": [
    {
     "name": "stderr",
     "output_type": "stream",
     "text": [
      "C:\\Users\\lenovo\\AppData\\Roaming\\Python\\Python36\\site-packages\\ipykernel_launcher.py:15: SettingWithCopyWarning: \n",
      "A value is trying to be set on a copy of a slice from a DataFrame\n",
      "\n",
      "See the caveats in the documentation: https://pandas.pydata.org/pandas-docs/stable/user_guide/indexing.html#returning-a-view-versus-a-copy\n",
      "  from ipykernel import kernelapp as app\n",
      "C:\\Users\\lenovo\\AppData\\Roaming\\Python\\Python36\\site-packages\\ipykernel_launcher.py:17: SettingWithCopyWarning: \n",
      "A value is trying to be set on a copy of a slice from a DataFrame\n",
      "\n",
      "See the caveats in the documentation: https://pandas.pydata.org/pandas-docs/stable/user_guide/indexing.html#returning-a-view-versus-a-copy\n",
      "C:\\Users\\lenovo\\AppData\\Roaming\\Python\\Python36\\site-packages\\ipykernel_launcher.py:13: SettingWithCopyWarning: \n",
      "A value is trying to be set on a copy of a slice from a DataFrame\n",
      "\n",
      "See the caveats in the documentation: https://pandas.pydata.org/pandas-docs/stable/user_guide/indexing.html#returning-a-view-versus-a-copy\n",
      "  del sys.path[0]\n"
     ]
    }
   ],
   "source": [
    "#imputation of Glu\n",
    "postive_Glu = postive_train['Glu']\n",
    "negative_Glu = negative_train['Glu']\n",
    "fill_null(postive_Glu)\n",
    "fill_null(negative_Glu)"
   ]
  },
  {
   "cell_type": "code",
   "execution_count": 24,
   "metadata": {},
   "outputs": [
    {
     "name": "stderr",
     "output_type": "stream",
     "text": [
      "C:\\Users\\lenovo\\AppData\\Roaming\\Python\\Python36\\site-packages\\ipykernel_launcher.py:17: SettingWithCopyWarning: \n",
      "A value is trying to be set on a copy of a slice from a DataFrame\n",
      "\n",
      "See the caveats in the documentation: https://pandas.pydata.org/pandas-docs/stable/user_guide/indexing.html#returning-a-view-versus-a-copy\n",
      "C:\\Users\\lenovo\\AppData\\Roaming\\Python\\Python36\\site-packages\\ipykernel_launcher.py:13: SettingWithCopyWarning: \n",
      "A value is trying to be set on a copy of a slice from a DataFrame\n",
      "\n",
      "See the caveats in the documentation: https://pandas.pydata.org/pandas-docs/stable/user_guide/indexing.html#returning-a-view-versus-a-copy\n",
      "  del sys.path[0]\n",
      "C:\\Users\\lenovo\\AppData\\Roaming\\Python\\Python36\\site-packages\\ipykernel_launcher.py:15: SettingWithCopyWarning: \n",
      "A value is trying to be set on a copy of a slice from a DataFrame\n",
      "\n",
      "See the caveats in the documentation: https://pandas.pydata.org/pandas-docs/stable/user_guide/indexing.html#returning-a-view-versus-a-copy\n",
      "  from ipykernel import kernelapp as app\n"
     ]
    }
   ],
   "source": [
    "#imputation of WBC\n",
    "postive_WBC = postive_train['WBC']\n",
    "negative_WBC = negative_train['WBC']\n",
    "fill_null(postive_WBC)\n",
    "fill_null(negative_WBC)"
   ]
  },
  {
   "cell_type": "code",
   "execution_count": 25,
   "metadata": {},
   "outputs": [
    {
     "name": "stderr",
     "output_type": "stream",
     "text": [
      "C:\\Users\\lenovo\\AppData\\Roaming\\Python\\Python36\\site-packages\\ipykernel_launcher.py:15: SettingWithCopyWarning: \n",
      "A value is trying to be set on a copy of a slice from a DataFrame\n",
      "\n",
      "See the caveats in the documentation: https://pandas.pydata.org/pandas-docs/stable/user_guide/indexing.html#returning-a-view-versus-a-copy\n",
      "  from ipykernel import kernelapp as app\n",
      "C:\\Users\\lenovo\\AppData\\Roaming\\Python\\Python36\\site-packages\\ipykernel_launcher.py:13: SettingWithCopyWarning: \n",
      "A value is trying to be set on a copy of a slice from a DataFrame\n",
      "\n",
      "See the caveats in the documentation: https://pandas.pydata.org/pandas-docs/stable/user_guide/indexing.html#returning-a-view-versus-a-copy\n",
      "  del sys.path[0]\n",
      "C:\\Users\\lenovo\\AppData\\Roaming\\Python\\Python36\\site-packages\\ipykernel_launcher.py:17: SettingWithCopyWarning: \n",
      "A value is trying to be set on a copy of a slice from a DataFrame\n",
      "\n",
      "See the caveats in the documentation: https://pandas.pydata.org/pandas-docs/stable/user_guide/indexing.html#returning-a-view-versus-a-copy\n"
     ]
    }
   ],
   "source": [
    "#imputation of N\n",
    "postive_N = postive_train['N']\n",
    "negative_N = negative_train['N']\n",
    "fill_null(postive_N)\n",
    "fill_null(negative_N)"
   ]
  },
  {
   "cell_type": "code",
   "execution_count": 26,
   "metadata": {},
   "outputs": [
    {
     "data": {
      "text/plain": [
       "admission number    0\n",
       "Age                 0\n",
       "Sex                 0\n",
       "Follow_up time      0\n",
       "Revasc              0\n",
       "Culp                0\n",
       "MainVASc            0\n",
       "Numsten             0\n",
       "ECG                 0\n",
       "Killip              0\n",
       "TC                  0\n",
       "LDL                 0\n",
       "CRP                 0\n",
       "EF                  0\n",
       "LV                  0\n",
       "Cr                  0\n",
       "UA                  0\n",
       "Glu                 0\n",
       "WBC                 0\n",
       "N                   0\n",
       "HyperP              0\n",
       "Cigaret             0\n",
       "OtherHis            0\n",
       "diabetes            0\n",
       "Drugcom             0\n",
       "MACE                0\n",
       "dtype: int64"
      ]
     },
     "execution_count": 26,
     "metadata": {},
     "output_type": "execute_result"
    }
   ],
   "source": [
    "#The imputation of continuous and discrete variables is complete\n",
    "raw_test.isnull().sum()"
   ]
  },
  {
   "cell_type": "code",
   "execution_count": 27,
   "metadata": {},
   "outputs": [],
   "source": [
    "#input：strings of 'Revasc(Time of revascularization)'\n",
    "#output：minutes\n",
    "#d,h,m convert to minutes\n",
    "def time_conv(strings):\n",
    "    day = 0\n",
    "    hour = 0\n",
    "    mins = 0\n",
    "    if 'd' in strings:\n",
    "        d_end = strings.index('d')\n",
    "        day = int(strings[0:d_end])\n",
    "    if 'h' in strings:\n",
    "        if 'd' in strings:\n",
    "            h_star = strings.index('d')+1\n",
    "            h_end = strings.index('h')\n",
    "            hour = int(strings[h_star:h_end])\n",
    "        else:\n",
    "            h_end = strings.index('h')\n",
    "            hour = int(strings[0:h_end])\n",
    "    if 'm' in strings:\n",
    "        if 'h' in strings:\n",
    "            m_star = strings.index('h')+1\n",
    "            m_end = strings.index('m')\n",
    "            mins = int(strings[m_star:m_end])\n",
    "        elif 'd' in strings:\n",
    "            m_star = strings.index('d')+1\n",
    "            m_end = strings.index('m')\n",
    "            mins = int(strings[m_star:m_end])\n",
    "        else:\n",
    "            m_end = strings.index('m')\n",
    "            mins = int(strings[0:m_end])\n",
    "    if day > 3:\n",
    "        day = 3\n",
    "    time_mins = day*1440+hour*60+mins\n",
    "    return time_mins"
   ]
  },
  {
   "cell_type": "code",
   "execution_count": 28,
   "metadata": {},
   "outputs": [
    {
     "name": "stderr",
     "output_type": "stream",
     "text": [
      "C:\\Users\\lenovo\\AppData\\Roaming\\Python\\Python36\\site-packages\\ipykernel_launcher.py:3: SettingWithCopyWarning: \n",
      "A value is trying to be set on a copy of a slice from a DataFrame\n",
      "\n",
      "See the caveats in the documentation: https://pandas.pydata.org/pandas-docs/stable/user_guide/indexing.html#returning-a-view-versus-a-copy\n",
      "  This is separate from the ipykernel package so we can avoid doing imports until\n"
     ]
    }
   ],
   "source": [
    "for i in raw_test.index:\n",
    "    conv = raw_test['Revasc'][i] \n",
    "    raw_test['Revasc'][i] = time_conv(conv)\n",
    "raw_test['Revasc'] = raw_test['Revasc'].astype(int)"
   ]
  },
  {
   "cell_type": "code",
   "execution_count": 29,
   "metadata": {},
   "outputs": [
    {
     "data": {
      "text/html": [
       "<div>\n",
       "<style scoped>\n",
       "    .dataframe tbody tr th:only-of-type {\n",
       "        vertical-align: middle;\n",
       "    }\n",
       "\n",
       "    .dataframe tbody tr th {\n",
       "        vertical-align: top;\n",
       "    }\n",
       "\n",
       "    .dataframe thead th {\n",
       "        text-align: right;\n",
       "    }\n",
       "</style>\n",
       "<table border=\"1\" class=\"dataframe\">\n",
       "  <thead>\n",
       "    <tr style=\"text-align: right;\">\n",
       "      <th></th>\n",
       "      <th>admission number</th>\n",
       "      <th>Age</th>\n",
       "      <th>Sex</th>\n",
       "      <th>Follow_up time</th>\n",
       "      <th>Revasc</th>\n",
       "      <th>Culp</th>\n",
       "      <th>MainVASc</th>\n",
       "      <th>Numsten</th>\n",
       "      <th>ECG</th>\n",
       "      <th>Killip</th>\n",
       "      <th>...</th>\n",
       "      <th>UA</th>\n",
       "      <th>Glu</th>\n",
       "      <th>WBC</th>\n",
       "      <th>N</th>\n",
       "      <th>HyperP</th>\n",
       "      <th>Cigaret</th>\n",
       "      <th>OtherHis</th>\n",
       "      <th>diabetes</th>\n",
       "      <th>Drugcom</th>\n",
       "      <th>MACE</th>\n",
       "    </tr>\n",
       "  </thead>\n",
       "  <tbody>\n",
       "    <tr>\n",
       "      <th>358</th>\n",
       "      <td>1047495</td>\n",
       "      <td>45</td>\n",
       "      <td>0</td>\n",
       "      <td>403</td>\n",
       "      <td>108</td>\n",
       "      <td>4.0</td>\n",
       "      <td>3.0</td>\n",
       "      <td>1.0</td>\n",
       "      <td>1</td>\n",
       "      <td>I</td>\n",
       "      <td>...</td>\n",
       "      <td>117.000000</td>\n",
       "      <td>5.30</td>\n",
       "      <td>6.520000</td>\n",
       "      <td>4.540000</td>\n",
       "      <td>0</td>\n",
       "      <td>1</td>\n",
       "      <td>1</td>\n",
       "      <td>1</td>\n",
       "      <td>1.0</td>\n",
       "      <td>0</td>\n",
       "    </tr>\n",
       "    <tr>\n",
       "      <th>19</th>\n",
       "      <td>899915</td>\n",
       "      <td>67</td>\n",
       "      <td>0</td>\n",
       "      <td>659</td>\n",
       "      <td>1110</td>\n",
       "      <td>2.0</td>\n",
       "      <td>2.0</td>\n",
       "      <td>3.0</td>\n",
       "      <td>1</td>\n",
       "      <td>III</td>\n",
       "      <td>...</td>\n",
       "      <td>718.000000</td>\n",
       "      <td>6.93</td>\n",
       "      <td>11.970000</td>\n",
       "      <td>10.790000</td>\n",
       "      <td>1</td>\n",
       "      <td>1</td>\n",
       "      <td>1</td>\n",
       "      <td>0</td>\n",
       "      <td>1.0</td>\n",
       "      <td>0</td>\n",
       "    </tr>\n",
       "    <tr>\n",
       "      <th>294</th>\n",
       "      <td>1065946</td>\n",
       "      <td>50</td>\n",
       "      <td>0</td>\n",
       "      <td>315</td>\n",
       "      <td>540</td>\n",
       "      <td>3.0</td>\n",
       "      <td>4.0</td>\n",
       "      <td>0.0</td>\n",
       "      <td>0</td>\n",
       "      <td>I</td>\n",
       "      <td>...</td>\n",
       "      <td>336.266667</td>\n",
       "      <td>5.69</td>\n",
       "      <td>9.946667</td>\n",
       "      <td>22.388009</td>\n",
       "      <td>0</td>\n",
       "      <td>1</td>\n",
       "      <td>0</td>\n",
       "      <td>0</td>\n",
       "      <td>1.0</td>\n",
       "      <td>0</td>\n",
       "    </tr>\n",
       "    <tr>\n",
       "      <th>194</th>\n",
       "      <td>869417</td>\n",
       "      <td>72</td>\n",
       "      <td>0</td>\n",
       "      <td>707</td>\n",
       "      <td>4368</td>\n",
       "      <td>3.0</td>\n",
       "      <td>3.0</td>\n",
       "      <td>1.0</td>\n",
       "      <td>0</td>\n",
       "      <td>II</td>\n",
       "      <td>...</td>\n",
       "      <td>495.000000</td>\n",
       "      <td>8.71</td>\n",
       "      <td>9.600000</td>\n",
       "      <td>7.790000</td>\n",
       "      <td>1</td>\n",
       "      <td>0</td>\n",
       "      <td>1</td>\n",
       "      <td>0</td>\n",
       "      <td>1.0</td>\n",
       "      <td>0</td>\n",
       "    </tr>\n",
       "    <tr>\n",
       "      <th>117</th>\n",
       "      <td>896240</td>\n",
       "      <td>59</td>\n",
       "      <td>0</td>\n",
       "      <td>664</td>\n",
       "      <td>330</td>\n",
       "      <td>4.0</td>\n",
       "      <td>3.0</td>\n",
       "      <td>2.0</td>\n",
       "      <td>0</td>\n",
       "      <td>Ⅰ</td>\n",
       "      <td>...</td>\n",
       "      <td>370.000000</td>\n",
       "      <td>9.24</td>\n",
       "      <td>10.020000</td>\n",
       "      <td>5.430000</td>\n",
       "      <td>0</td>\n",
       "      <td>0</td>\n",
       "      <td>0</td>\n",
       "      <td>0</td>\n",
       "      <td>1.0</td>\n",
       "      <td>0</td>\n",
       "    </tr>\n",
       "  </tbody>\n",
       "</table>\n",
       "<p>5 rows × 26 columns</p>\n",
       "</div>"
      ],
      "text/plain": [
       "     admission number  Age Sex Follow_up time  Revasc  Culp  MainVASc  \\\n",
       "358           1047495   45   0            403     108   4.0       3.0   \n",
       "19             899915   67   0            659    1110   2.0       2.0   \n",
       "294           1065946   50   0            315     540   3.0       4.0   \n",
       "194            869417   72   0            707    4368   3.0       3.0   \n",
       "117            896240   59   0            664     330   4.0       3.0   \n",
       "\n",
       "     Numsten  ECG Killip  ...          UA   Glu        WBC          N  HyperP  \\\n",
       "358      1.0    1      I  ...  117.000000  5.30   6.520000   4.540000       0   \n",
       "19       3.0    1    III  ...  718.000000  6.93  11.970000  10.790000       1   \n",
       "294      0.0    0      I  ...  336.266667  5.69   9.946667  22.388009       0   \n",
       "194      1.0    0     II  ...  495.000000  8.71   9.600000   7.790000       1   \n",
       "117      2.0    0      Ⅰ  ...  370.000000  9.24  10.020000   5.430000       0   \n",
       "\n",
       "     Cigaret  OtherHis  diabetes  Drugcom  MACE  \n",
       "358        1         1         1      1.0     0  \n",
       "19         1         1         0      1.0     0  \n",
       "294        1         0         0      1.0     0  \n",
       "194        0         1         0      1.0     0  \n",
       "117        0         0         0      1.0     0  \n",
       "\n",
       "[5 rows x 26 columns]"
      ]
     },
     "execution_count": 29,
     "metadata": {},
     "output_type": "execute_result"
    }
   ],
   "source": [
    "raw_test.head()"
   ]
  },
  {
   "cell_type": "code",
   "execution_count": 30,
   "metadata": {},
   "outputs": [
    {
     "name": "stderr",
     "output_type": "stream",
     "text": [
      "C:\\Users\\lenovo\\AppData\\Roaming\\Python\\Python36\\site-packages\\ipykernel_launcher.py:3: SettingWithCopyWarning: \n",
      "A value is trying to be set on a copy of a slice from a DataFrame\n",
      "\n",
      "See the caveats in the documentation: https://pandas.pydata.org/pandas-docs/stable/user_guide/indexing.html#returning-a-view-versus-a-copy\n",
      "  This is separate from the ipykernel package so we can avoid doing imports until\n",
      "C:\\Users\\lenovo\\AppData\\Roaming\\Python\\Python36\\site-packages\\ipykernel_launcher.py:13: SettingWithCopyWarning: \n",
      "A value is trying to be set on a copy of a slice from a DataFrame\n",
      "\n",
      "See the caveats in the documentation: https://pandas.pydata.org/pandas-docs/stable/user_guide/indexing.html#returning-a-view-versus-a-copy\n",
      "  del sys.path[0]\n",
      "C:\\Users\\lenovo\\AppData\\Roaming\\Python\\Python36\\site-packages\\ipykernel_launcher.py:9: SettingWithCopyWarning: \n",
      "A value is trying to be set on a copy of a slice from a DataFrame\n",
      "\n",
      "See the caveats in the documentation: https://pandas.pydata.org/pandas-docs/stable/user_guide/indexing.html#returning-a-view-versus-a-copy\n",
      "  if __name__ == '__main__':\n",
      "C:\\Users\\lenovo\\AppData\\Roaming\\Python\\Python36\\site-packages\\ipykernel_launcher.py:5: SettingWithCopyWarning: \n",
      "A value is trying to be set on a copy of a slice from a DataFrame\n",
      "\n",
      "See the caveats in the documentation: https://pandas.pydata.org/pandas-docs/stable/user_guide/indexing.html#returning-a-view-versus-a-copy\n",
      "  \"\"\"\n",
      "C:\\Users\\lenovo\\AppData\\Roaming\\Python\\Python36\\site-packages\\ipykernel_launcher.py:17: SettingWithCopyWarning: \n",
      "A value is trying to be set on a copy of a slice from a DataFrame\n",
      "\n",
      "See the caveats in the documentation: https://pandas.pydata.org/pandas-docs/stable/user_guide/indexing.html#returning-a-view-versus-a-copy\n",
      "C:\\Users\\lenovo\\AppData\\Roaming\\Python\\Python36\\site-packages\\ipykernel_launcher.py:19: SettingWithCopyWarning: \n",
      "A value is trying to be set on a copy of a slice from a DataFrame\n",
      "\n",
      "See the caveats in the documentation: https://pandas.pydata.org/pandas-docs/stable/user_guide/indexing.html#returning-a-view-versus-a-copy\n",
      "C:\\Users\\lenovo\\AppData\\Roaming\\Python\\Python36\\site-packages\\ipykernel_launcher.py:11: SettingWithCopyWarning: \n",
      "A value is trying to be set on a copy of a slice from a DataFrame\n",
      "\n",
      "See the caveats in the documentation: https://pandas.pydata.org/pandas-docs/stable/user_guide/indexing.html#returning-a-view-versus-a-copy\n",
      "  # This is added back by InteractiveShellApp.init_path()\n",
      "C:\\Users\\lenovo\\AppData\\Roaming\\Python\\Python36\\site-packages\\ipykernel_launcher.py:15: SettingWithCopyWarning: \n",
      "A value is trying to be set on a copy of a slice from a DataFrame\n",
      "\n",
      "See the caveats in the documentation: https://pandas.pydata.org/pandas-docs/stable/user_guide/indexing.html#returning-a-view-versus-a-copy\n",
      "  from ipykernel import kernelapp as app\n",
      "C:\\Users\\lenovo\\AppData\\Roaming\\Python\\Python36\\site-packages\\ipykernel_launcher.py:7: SettingWithCopyWarning: \n",
      "A value is trying to be set on a copy of a slice from a DataFrame\n",
      "\n",
      "See the caveats in the documentation: https://pandas.pydata.org/pandas-docs/stable/user_guide/indexing.html#returning-a-view-versus-a-copy\n",
      "  import sys\n"
     ]
    }
   ],
   "source": [
    "for i in raw_test.index:\n",
    "    if raw_test['Killip'][i] == 'I':\n",
    "        raw_test['Killip'][i] = 1\n",
    "    elif raw_test['Killip'][i] == 'Ⅰ':\n",
    "        raw_test['Killip'][i] = 1\n",
    "    elif raw_test['Killip'][i] == 'I ':\n",
    "        raw_test['Killip'][i] = 1\n",
    "    elif raw_test['Killip'][i] == 'II':\n",
    "        raw_test['Killip'][i] = 2\n",
    "    elif raw_test['Killip'][i] == 'Ⅱ':\n",
    "        raw_test['Killip'][i] = 2\n",
    "    elif raw_test['Killip'][i] == 'III':\n",
    "        raw_test['Killip'][i] = 3\n",
    "    elif raw_test['Killip'][i] == 'Ⅲ':\n",
    "        raw_test['Killip'][i] = 3\n",
    "    elif raw_test['Killip'][i] == 'IV':\n",
    "        raw_test['Killip'][i] = 4\n",
    "    elif raw_test['Killip'][i] == 'Ⅳ':\n",
    "        raw_test['Killip'][i] = 4"
   ]
  },
  {
   "cell_type": "code",
   "execution_count": 31,
   "metadata": {},
   "outputs": [],
   "source": [
    "raw_test['Killip'] = raw_test['Killip'].astype(int)"
   ]
  },
  {
   "cell_type": "code",
   "execution_count": 32,
   "metadata": {},
   "outputs": [],
   "source": [
    "raw_test['Sex'] = raw_test['Sex'].astype(int)\n",
    "raw_test['Follow_up time'] = raw_test['Follow_up time'].astype(int)"
   ]
  },
  {
   "cell_type": "code",
   "execution_count": 33,
   "metadata": {},
   "outputs": [],
   "source": [
    "raw_test = raw_test.astype(float)"
   ]
  },
  {
   "cell_type": "code",
   "execution_count": 34,
   "metadata": {},
   "outputs": [],
   "source": [
    "raw_test.to_excel(r'C:\\Users\\lenovo\\Revision\\Preprocessing\\processed_test.xlsx')"
   ]
  },
  {
   "cell_type": "code",
   "execution_count": 35,
   "metadata": {},
   "outputs": [
    {
     "data": {
      "text/plain": [
       "admission number    float64\n",
       "Age                 float64\n",
       "Sex                 float64\n",
       "Follow_up time      float64\n",
       "Revasc              float64\n",
       "Culp                float64\n",
       "MainVASc            float64\n",
       "Numsten             float64\n",
       "ECG                 float64\n",
       "Killip              float64\n",
       "TC                  float64\n",
       "LDL                 float64\n",
       "CRP                 float64\n",
       "EF                  float64\n",
       "LV                  float64\n",
       "Cr                  float64\n",
       "UA                  float64\n",
       "Glu                 float64\n",
       "WBC                 float64\n",
       "N                   float64\n",
       "HyperP              float64\n",
       "Cigaret             float64\n",
       "OtherHis            float64\n",
       "diabetes            float64\n",
       "Drugcom             float64\n",
       "MACE                float64\n",
       "dtype: object"
      ]
     },
     "execution_count": 35,
     "metadata": {},
     "output_type": "execute_result"
    }
   ],
   "source": [
    "raw_test.dtypes"
   ]
  },
  {
   "cell_type": "code",
   "execution_count": 36,
   "metadata": {},
   "outputs": [
    {
     "data": {
      "text/plain": [
       "admission number    0\n",
       "Age                 0\n",
       "Sex                 0\n",
       "Follow_up time      0\n",
       "Revasc              0\n",
       "Culp                0\n",
       "MainVASc            0\n",
       "Numsten             0\n",
       "ECG                 0\n",
       "Killip              0\n",
       "TC                  0\n",
       "LDL                 0\n",
       "CRP                 0\n",
       "EF                  0\n",
       "LV                  0\n",
       "Cr                  0\n",
       "UA                  0\n",
       "Glu                 0\n",
       "WBC                 0\n",
       "N                   0\n",
       "HyperP              0\n",
       "Cigaret             0\n",
       "OtherHis            0\n",
       "diabetes            0\n",
       "Drugcom             0\n",
       "MACE                0\n",
       "dtype: int64"
      ]
     },
     "execution_count": 36,
     "metadata": {},
     "output_type": "execute_result"
    }
   ],
   "source": [
    "raw_test.isnull().sum()"
   ]
  }
 ],
 "metadata": {
  "kernelspec": {
   "display_name": "Python 3",
   "language": "python",
   "name": "python3"
  },
  "language_info": {
   "codemirror_mode": {
    "name": "ipython",
    "version": 3
   },
   "file_extension": ".py",
   "mimetype": "text/x-python",
   "name": "python",
   "nbconvert_exporter": "python",
   "pygments_lexer": "ipython3",
   "version": "3.6.4"
  }
 },
 "nbformat": 4,
 "nbformat_minor": 2
}
